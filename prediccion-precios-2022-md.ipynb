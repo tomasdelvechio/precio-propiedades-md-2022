{
  "nbformat": 4,
  "nbformat_minor": 0,
  "metadata": {
    "colab": {
      "name": "Copia de TP individual.ipynb",
      "provenance": [],
      "collapsed_sections": []
    },
    "kernelspec": {
      "name": "python3",
      "display_name": "Python 3"
    },
    "language_info": {
      "name": "python"
    }
  },
  "cells": [
    {
      "cell_type": "code",
      "source": [
        "# https://www.properati.com.ar/data\n",
        "! wget -O ar_properties.csv.gz -q https://storage.googleapis.com/properati-data-public/ar_properties.csv.gz\n",
        "! gzip -d -f /content/ar_properties.csv.gz"
      ],
      "metadata": {
        "id": "A7BBykw5oQNl"
      },
      "execution_count": null,
      "outputs": []
    },
    {
      "cell_type": "code",
      "execution_count": null,
      "metadata": {
        "id": "jw8ogMDOpvKP"
      },
      "outputs": [],
      "source": [
        "import pandas as pd\n",
        "\n",
        "import sklearn as sk\n",
        "from sklearn import model_selection\n",
        "from sklearn import ensemble\n",
        "from sklearn import metrics"
      ]
    },
    {
      "cell_type": "markdown",
      "source": [
        "# Lectura de datos"
      ],
      "metadata": {
        "id": "20D-m6GPyefp"
      }
    },
    {
      "cell_type": "code",
      "source": [
        "df = pd.read_csv('/content/ar_properties.csv', index_col=\"id\")  "
      ],
      "metadata": {
        "id": "CtV0wOGsqJLC"
      },
      "execution_count": null,
      "outputs": []
    },
    {
      "cell_type": "code",
      "source": [
        "# seleccion de datos de demostración. cambiar\n",
        "df = df.loc[(df.l2 == \"Córdoba\") & (df.operation_type == 'Venta') & (df.property_type == 'Casa')]\n",
        "df.shape"
      ],
      "metadata": {
        "id": "ckXCv9f-uia0"
      },
      "execution_count": null,
      "outputs": []
    },
    {
      "cell_type": "markdown",
      "source": [
        "# Análisis del conjunto de datos"
      ],
      "metadata": {
        "id": "byV0dQi-yiEd"
      }
    },
    {
      "cell_type": "markdown",
      "source": [
        "# Tratamiento de los datos"
      ],
      "metadata": {
        "id": "zjaTnfxkyvo8"
      }
    },
    {
      "cell_type": "markdown",
      "source": [
        "# Modelización"
      ],
      "metadata": {
        "id": "i2jRJmQ-tD4Z"
      }
    },
    {
      "cell_type": "code",
      "source": [
        "df = df.select_dtypes(include=['float64', 'int64'])\n",
        "df.fillna(0, inplace=True, downcast= \"infer\")"
      ],
      "metadata": {
        "id": "yg8qNxuNrzQp"
      },
      "execution_count": null,
      "outputs": []
    },
    {
      "cell_type": "code",
      "source": [
        "X = df[df.columns.drop('price')]\n",
        "y = df['price']\n",
        "\n",
        "for n_estimators in [100, 500, 1000]:     \n",
        "    for max_depth in [3, 7, 11]:\n",
        "\n",
        "        ## Tienen que usar RandomForestRegressor si o si o si. Pueden cambiar los parámetros\n",
        "        reg = sk.ensemble.RandomForestRegressor(n_estimators=n_estimators, max_depth=max_depth, random_state=42, n_jobs=-1)\n",
        "\n",
        "        ## Validación cruzada en 5 partes (lo van a ver en AA), -RMSE. No tocar\n",
        "        scores = sk.model_selection.cross_val_score(reg, X, y, cv=10, scoring='neg_root_mean_squared_error')\n",
        "\n",
        "        ## Imprimimos scores. Cuando más bajo mejor\n",
        "        print(f\"n_estimators={n_estimators}, max_depth={max_depth} --> {-scores.mean():.3f} +/- {scores.std():.3f}\")\n"
      ],
      "metadata": {
        "id": "PoAhfAjlr-rp"
      },
      "execution_count": null,
      "outputs": []
    },
    {
      "cell_type": "code",
      "source": [
        "df_pred = pd.read_csv('/content/a_predecir.csv', index_col=\"id\")\n",
        "df_pred.fillna(0, inplace=True)"
      ],
      "metadata": {
        "id": "01697gx81F5Z"
      },
      "execution_count": null,
      "outputs": []
    },
    {
      "cell_type": "code",
      "source": [
        "X_pred = df_pred[X.columns]"
      ],
      "metadata": {
        "id": "xzAwUNRA1Fzb"
      },
      "execution_count": null,
      "outputs": []
    },
    {
      "cell_type": "code",
      "source": [
        "# los mejores hiperparámetros encontrados antes\n",
        "n_estimators = 100\n",
        "max_depth = 3\n",
        "\n",
        "# entrenamiento\n",
        "reg = sk.ensemble.RandomForestRegressor(n_estimators=n_estimators, max_depth=max_depth, random_state=42, n_jobs=-1)\n",
        "reg.fit(X, y)\n",
        "\n",
        "# predicción\n",
        "df_pred[\"price\"] = reg.predict(X_pred)"
      ],
      "metadata": {
        "id": "81dOh5WvAPMa"
      },
      "execution_count": null,
      "outputs": []
    },
    {
      "cell_type": "code",
      "source": [
        "# grabo la solución\n",
        "df_pred[[\"price\"]].to_csv(\"solucion.csv\")"
      ],
      "metadata": {
        "id": "mU9iV6cuBwKB"
      },
      "execution_count": null,
      "outputs": []
    }
  ]
}