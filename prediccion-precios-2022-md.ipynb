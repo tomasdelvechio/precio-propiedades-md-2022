{
  "cells": [
    {
      "cell_type": "markdown",
      "metadata": {},
      "source": [
        "# Predicción Precios Argentina - MD 2022\n",
        "\n",
        "Notebook para la competencias de [Kaggle](https://www.kaggle.com/competitions/fcen-md-2022-prediccion-precio-de-propiedades/leaderboard) de la materia MD de la maestria de DM de la UBA.\n",
        "\n",
        "Autor: Tomás Delvechio"
      ]
    },
    {
      "cell_type": "markdown",
      "metadata": {},
      "source": [
        "## Configuración de la notebook\n",
        "\n",
        "A continuación se definen configuraciones que afectaran el resto del notebook."
      ]
    },
    {
      "cell_type": "code",
      "execution_count": 4,
      "metadata": {},
      "outputs": [],
      "source": [
        "# Libs estandar de pythons, utiles en todo el notebook\n",
        "import os.path\n",
        "from shutil import which\n",
        "import sys\n",
        "\n",
        "# Libs de data science\n",
        "import matplotlib\n",
        "import matplotlib.pyplot as plt\n",
        "import numpy as np\n",
        "import pandas as pd\n",
        "from scipy import stats\n",
        "import sklearn as sk\n",
        "from sklearn import model_selection\n",
        "from sklearn import ensemble\n",
        "from sklearn import metrics\n",
        "\n",
        "# No tocar\n",
        "EJECUTA_COLAB = 'google.colab' in sys.modules\n",
        "ESTA_KAGGLE = not EJECUTA_COLAB \\\n",
        "    and which(\"kaggle\") is not None \\\n",
        "    and os.path.exists(os.path.join(os.getenv(\"HOME\"), \".kaggle/kaggle.json\"))\n",
        "ENTORNO_DESARROLLO = \"Desarrollo\"\n",
        "ENTORNO_PRUEBA = \"Prueba\"\n",
        "ENTORNO_PRODUCCION = \"Produccion\""
      ]
    },
    {
      "cell_type": "markdown",
      "metadata": {},
      "source": [
        "## Configuraciones editables\n",
        "\n",
        "Estas variables pueden ser editadas para cambiar comportamientos del notebook"
      ]
    },
    {
      "cell_type": "code",
      "execution_count": 5,
      "metadata": {},
      "outputs": [],
      "source": [
        "# Editar para cambiar comportamiento\n",
        "ENTORNO = ENTORNO_PRUEBA\n",
        "ELIMINAR_COLS_CON_NAN_PROPORCION = 0.49\n"
      ]
    },
    {
      "cell_type": "markdown",
      "metadata": {},
      "source": [
        "## Datasets\n",
        "\n",
        "Se listan todos los datasets a considerar a continuación en un dict"
      ]
    },
    {
      "cell_type": "code",
      "execution_count": 63,
      "metadata": {},
      "outputs": [],
      "source": [
        "datasets = {\n",
        "\n",
        "    \"input\": {\n",
        "\n",
        "        # Dataset de entrenamiento\n",
        "        \"entrenamiento\": {\n",
        "            \"nombre\": \"properati_ar\",\n",
        "            \"archivo\": 'ar_properties.csv',\n",
        "            \"archivo_comprimido\": \"ar_properties.csv.gz\",\n",
        "            \"comprimido\": \"gz\",\n",
        "            \"url\": \"https://storage.googleapis.com/properati-data-public/ar_properties.csv.gz\",\n",
        "        },\n",
        "\n",
        "        # Dataset de prueba\n",
        "        \"prueba\": {\n",
        "            \"nombre\": \"testing\",\n",
        "            \"archivo\": \"a_predecir.csv\",\n",
        "            \"archivo_comprimido\": \"a_predecir.csv.zip\",\n",
        "            \"comprimido\": \"zip\",\n",
        "            \"url\": \"http://tomasdelvechio.github.io/subjects/dm/a_predecir.csv.zip\",\n",
        "        },\n",
        "\n",
        "    },\n",
        "\n",
        "    \"output\": {\n",
        "\n",
        "        # Dataset de la fase de Limpieza inicial\n",
        "        \"dataset_limpio\": {\n",
        "            \"nombre\": \"dataset_limpio\",\n",
        "            \"archivo\": \"dataset_limpio.csv\",\n",
        "            \"comprimido\": False,\n",
        "            \"url\": None,\n",
        "        },\n",
        "\n",
        "        # Dataset para subir a Kaggle\n",
        "        \"solucion\": {\n",
        "            \"nombre\": \"soluciones\",\n",
        "            \"archivo\": \"solucion.csv\",\n",
        "            \"comprimido\": False,\n",
        "            \"url\": None,\n",
        "        },\n",
        "\n",
        "    },\n",
        "\n",
        "}"
      ]
    },
    {
      "cell_type": "markdown",
      "metadata": {},
      "source": [
        "### Descarga de los datasets\n",
        "\n",
        "Controla si los datasets estan o no descargado, en caso de no estarlo, los descarga y descomprime"
      ]
    },
    {
      "cell_type": "code",
      "execution_count": 7,
      "metadata": {
        "id": "A7BBykw5oQNl"
      },
      "outputs": [
        {
          "name": "stdout",
          "output_type": "stream",
          "text": [
            "Procesando ds para entrenamiento: properati_ar\n",
            "Dataset properati_ar descargado... No se descarga...\n",
            "Procesando ds para prueba: testing\n",
            "Dataset testing descargado... No se descarga...\n"
          ]
        }
      ],
      "source": [
        "if EJECUTA_COLAB:\n",
        "    DOWNLOAD_PATH = '/content'\n",
        "else:\n",
        "    DOWNLOAD_PATH = '.data/'\n",
        "    # tratamos de crear el dir por si es la 1era vez que ejecuta\n",
        "    ! mkdir -p $DOWNLOAD_PATH\n",
        "\n",
        "for tipo, ds in datasets[\"input\"].items():\n",
        "    print(f\"Procesando ds para {tipo}: {ds['nombre']}\")\n",
        "\n",
        "    fulllpath = os.path.join(\n",
        "        DOWNLOAD_PATH, f\"{ds['archivo_comprimido']}\")\n",
        "    fulllpath_raw = os.path.join(\n",
        "        DOWNLOAD_PATH, ds[\"archivo\"])\n",
        "\n",
        "    if os.path.exists(fulllpath_raw):\n",
        "        # skip download\n",
        "        print(f\"Dataset {ds['nombre']} descargado... No se descarga...\")\n",
        "    else:\n",
        "        url = ds[\"url\"]\n",
        "        print(f\"Descargando {ds['nombre']} desde {url}\")\n",
        "        ! wget -N -O $fulllpath -q $url\n",
        "        if ds[\"comprimido\"] == \"gz\":\n",
        "            ! gzip -d -f $fulllpath\n",
        "        elif ds[\"comprimido\"] == \"zip\":\n",
        "            ! unzip -n $fulllpath -d \".data/\"\n",
        "            ! rm $fulllpath\n",
        "\n",
        "archivo_entrenamiento = os.path.join(\n",
        "    DOWNLOAD_PATH, datasets[\"input\"][\"entrenamiento\"][\"archivo\"])\n",
        "archivo_prueba = os.path.join(\n",
        "    DOWNLOAD_PATH, datasets[\"input\"][\"prueba\"][\"archivo\"])\n"
      ]
    },
    {
      "cell_type": "markdown",
      "metadata": {},
      "source": [
        "Preparamos el archivo de salida"
      ]
    },
    {
      "cell_type": "code",
      "execution_count": 64,
      "metadata": {},
      "outputs": [
        {
          "name": "stdout",
          "output_type": "stream",
          "text": [
            "Archivo intermedio de limpieza inicial: .data/dataset_limpio.csv\n",
            "Archivo de soluciones: .data/solucion.csv\n"
          ]
        }
      ],
      "source": [
        "archivo_limpieza_inicial = os.path.join(\n",
        "    DOWNLOAD_PATH, datasets[\"output\"][\"dataset_limpio\"][\"archivo\"])\n",
        "archivo_salida = os.path.join(\n",
        "    DOWNLOAD_PATH, datasets[\"output\"][\"solucion\"][\"archivo\"])\n",
        "\n",
        "print(f\"Archivo intermedio de limpieza inicial: {archivo_limpieza_inicial}\")\n",
        "print(f\"Archivo de soluciones: {archivo_salida}\")\n"
      ]
    },
    {
      "cell_type": "markdown",
      "metadata": {
        "id": "20D-m6GPyefp"
      },
      "source": [
        "### Lectura de datos\n",
        "\n",
        "Se levantan los df de prueba y entrenamiento. No se levantan con el índice `index_col=\"id\"` dado que la [página de properati](https://www.properati.com.ar/data) aclara que podria no ser único."
      ]
    },
    {
      "cell_type": "code",
      "execution_count": 9,
      "metadata": {
        "id": "CtV0wOGsqJLC"
      },
      "outputs": [],
      "source": [
        "df_entrenamiento_inicial = pd.read_csv(archivo_entrenamiento)#, index_col=\"id\")\n",
        "df_prueba_inicial = pd.read_csv(archivo_prueba)#, index_col=\"id\")\n",
        "\n",
        "if (ENTORNO == ENTORNO_DESARROLLO):\n",
        "    # filtro para pruebas rápidas\n",
        "    df_entrenamiento_inicial = df_entrenamiento_inicial.loc[(df_entrenamiento_inicial.l2 == \"Córdoba\") & (\n",
        "        df_entrenamiento_inicial.operation_type == 'Venta') & (df_entrenamiento_inicial.property_type == 'Casa')]\n",
        "    df_entrenamiento_inicial.shape\n",
        "\n",
        "assert df_entrenamiento_inicial.shape[1] == 25, \"El ds de entrenamiento no tiene 25 atributos. Revisar.\"\n",
        "assert df_prueba_inicial.shape[1] == 28, \"El ds de prueba no tiene 28 atributos. Revisar.\"\n",
        "assert len(df_entrenamiento_inicial) == 1000000, \"El dataset no levantó el millon de registros.\"\n"
      ]
    },
    {
      "cell_type": "markdown",
      "metadata": {},
      "source": [
        "# Limpieza inicial\n",
        "\n",
        "La idea de esta sección es una exploración gruesa de los datos, revisar que filtrado se puede hacer, que hacer con registros NaNs presentes en columnas importantes."
      ]
    },
    {
      "cell_type": "code",
      "execution_count": 36,
      "metadata": {},
      "outputs": [
        {
          "name": "stdout",
          "output_type": "stream",
          "text": [
            "Entrenamiento: Index(['id', 'ad_type', 'start_date', 'end_date', 'created_on', 'lat', 'lon',\n",
            "       'l1', 'l2', 'l3', 'l4', 'l5', 'l6', 'rooms', 'bedrooms', 'bathrooms',\n",
            "       'surface_total', 'surface_covered', 'price', 'currency', 'price_period',\n",
            "       'title', 'description', 'property_type', 'operation_type'],\n",
            "      dtype='object') \n",
            "Prueba: Index(['id', 'ad_type', 'start_date', 'end_date', 'created_on', 'lat', 'lon',\n",
            "       'l1', 'l2', 'l3', 'rooms', 'bedrooms', 'bathrooms', 'surface_total',\n",
            "       'surface_covered', 'price', 'currency', 'price_period', 'title',\n",
            "       'description', 'property_type', 'operation_type', 'details',\n",
            "       'additionals', 'services', 'l4', 'l5', 'l6'],\n",
            "      dtype='object') \n"
          ]
        }
      ],
      "source": [
        "def ver_columnas(df, preffix='', suffix=''):\n",
        "    print(preffix, df.columns, suffix)\n",
        "\n",
        "ver_columnas(df_entrenamiento_inicial, \"Entrenamiento:\")\n",
        "ver_columnas(df_prueba_inicial, \"Prueba:\")\n"
      ]
    },
    {
      "cell_type": "markdown",
      "metadata": {},
      "source": [
        "¿Cuantos registros tiene cada uno de los datasets?"
      ]
    },
    {
      "cell_type": "code",
      "execution_count": 42,
      "metadata": {},
      "outputs": [
        {
          "name": "stdout",
          "output_type": "stream",
          "text": [
            "Cantidad de registros de Entrenamiento: 1000000\n",
            "Cantidad de registros de Prueba: 1087\n"
          ]
        }
      ],
      "source": [
        "print(f\"Cantidad de registros de Entrenamiento: {len(df_entrenamiento_inicial)}\")\n",
        "print(f\"Cantidad de registros de Prueba: {len(df_prueba_inicial)}\")\n"
      ]
    },
    {
      "cell_type": "markdown",
      "metadata": {},
      "source": [
        "Se explora la columna objetivo `price`."
      ]
    },
    {
      "cell_type": "code",
      "execution_count": 48,
      "metadata": {},
      "outputs": [
        {
          "name": "stdout",
          "output_type": "stream",
          "text": [
            "..:: Tipo de DF: entrenamiento ::..\n",
            "Tipo de dato de columna price: float64\n",
            "Cantidad de NaNs en col price: 41757 (4.1757%)\n",
            "Cantidad de registros con valor Cero en price: 2900 (0.29%)\n",
            "..:: Tipo de DF: Prueba ::..\n",
            "Tipo de dato de columna price: float64\n",
            "Cantidad de NaNs en col price: 1087 (100.0%)\n",
            "Cantidad de registros con valor Cero en price: 0 (0.0%)\n"
          ]
        },
        {
          "data": {
            "image/png": "[encoded data removed]",
            "text/plain": [
              "<Figure size 432x288 with 1 Axes>"
            ]
          },
          "metadata": {
            "needs_background": "light"
          },
          "output_type": "display_data"
        }
      ],
      "source": [
        "def exploracion_precio(df, tipo_df=\"entrenamiento\", plot=True):\n",
        "    print(f\"..:: Tipo de DF: {tipo_df} ::..\")\n",
        "    print(f\"Tipo de dato de columna price: {df.price.dtype}\")\n",
        "\n",
        "    nans_en_price_col = df.price.isna().sum()\n",
        "    print(\n",
        "        f\"Cantidad de NaNs en col price: {nans_en_price_col} ({nans_en_price_col*100/len(df)}%)\")\n",
        "\n",
        "    cantidad_ceros_en_price_col = df.price[df.price == 0].count()\n",
        "    print(\n",
        "        f\"Cantidad de registros con valor Cero en price: {cantidad_ceros_en_price_col} ({cantidad_ceros_en_price_col*100/len(df)}%)\")\n",
        "\n",
        "    if plot:\n",
        "        df.price.plot.box();\n",
        "\n",
        "\n",
        "exploracion_precio(df_entrenamiento_inicial)\n",
        "exploracion_precio(df_prueba_inicial, tipo_df=\"Prueba\", plot=False)\n"
      ]
    },
    {
      "cell_type": "markdown",
      "metadata": {},
      "source": [
        "Se observa que la columna `price` es de tipo real y que la misma contiene mas de 40 mil registros `NaNs` y casi 3 mil en cero para el dataset de entrenamiento. En el caso de pruebas, obviamente estos valores son todos NaNs.\n",
        "\n",
        "Se analiza ademas la columna `currency`."
      ]
    },
    {
      "cell_type": "code",
      "execution_count": 53,
      "metadata": {},
      "outputs": [
        {
          "name": "stdout",
          "output_type": "stream",
          "text": [
            "..:: Tipo de DF: entrenamiento ::..\n",
            "object\n",
            "44509\n",
            "2752  currency en nan pero que tienen un precio\n",
            "Monedas NO peso ni dolar= 3080\n",
            "Monedas NO peso ni dolar (%)= 0.308\n",
            "Argentina         2735\n",
            "Uruguay             14\n",
            "Estados Unidos       3\n",
            "Name: l1, dtype: int64\n"
          ]
        },
        {
          "data": {
            "image/png": "[encoded data removed]",
            "text/plain": [
              "<Figure size 432x288 with 1 Axes>"
            ]
          },
          "metadata": {
            "needs_background": "light"
          },
          "output_type": "display_data"
        },
        {
          "name": "stdout",
          "output_type": "stream",
          "text": [
            "..:: Tipo de DF: Prueba ::..\n",
            "object\n",
            "0\n",
            "0  currency en nan pero que tienen un precio\n",
            "Monedas NO peso ni dolar= 0\n",
            "Monedas NO peso ni dolar (%)= 0.0\n",
            "Series([], Name: l1, dtype: int64)\n"
          ]
        },
        {
          "data": {
            "image/png": "[encoded data removed]",
            "text/plain": [
              "<Figure size 432x288 with 1 Axes>"
            ]
          },
          "metadata": {
            "needs_background": "light"
          },
          "output_type": "display_data"
        }
      ],
      "source": [
        "def analisis_columna_currency(df, tipo_df=\"entrenamiento\"):\n",
        "    print(f\"..:: Tipo de DF: {tipo_df} ::..\")\n",
        "\n",
        "    print(df.currency.dtype)\n",
        "    print(df.currency.isna().sum())\n",
        "    relative_freq_currency_table = df.currency.value_counts(\n",
        "        normalize=True, )\n",
        "\n",
        "    df[df.currency.isna(\n",
        "    )]['price'].isna().sum() == df.price.isna().sum()\n",
        "    #for currency_name, currency_rel_freq in df.currency.value_counts(normalize=True, ).items():\n",
        "    #    df[df.currency == currency_name].value_counts()\n",
        "\n",
        "    print(df[(df.currency.isna(\n",
        "    )) & ~(df.price.isna())][\"price\"].count(), \" currency en nan pero que tienen un precio\")\n",
        "\n",
        "    print('Monedas NO peso ni dolar=', df.currency.isin(['UYU', 'PEN', 'COP']).sum())\n",
        "    print('Monedas NO peso ni dolar (%)=',\n",
        "        df.currency.isin(['UYU', 'PEN', 'COP']).sum()*100 / len(df))\n",
        "    \n",
        "    print(df[(df.currency.isna()) & ~(df.price.isna())][\"l1\"].value_counts())\n",
        "    \n",
        "    ax = relative_freq_currency_table.plot.bar(rot=0, title=f\"Distribución de currency en {tipo_df}\")\n",
        "    ax.bar_label(ax.bar(\n",
        "        relative_freq_currency_table.index, relative_freq_currency_table.values.tolist()))\n",
        "    plt.show()\n",
        "\n",
        "\n",
        "analisis_columna_currency(df_entrenamiento_inicial)\n",
        "analisis_columna_currency(df_prueba_inicial, tipo_df=\"Prueba\")\n"
      ]
    },
    {
      "cell_type": "markdown",
      "metadata": {},
      "source": [
        "Del análisis anterior para entrenamiento, se puede observar lo siguiente:\n",
        "\n",
        " * La mayoria de los registros estan o bien en pesos (~22%) o dolares (~77%).\n",
        " * El restante (menos del 0.4%) son otras monedas (cerca de 3 mil registros).\n",
        " * Existen ~41 mil registros que no tienen precio\n",
        " * Estos mismos coinciden con que no tienen tampoco la `currency`.\n",
        " * Existen 2752 que tienen `price` pero sin `currency`.\n",
        " * De estos, 2735 son de Argentina, 14 de Uruguay y 3 de USA (se podria imputar `ARS`, `UYU` y `USD` respectivamente).\n",
        "\n",
        "Para pruebas, la cuestión se reduce a que estan presentes el tipo de currency (USD).\n",
        "\n",
        "A continuación, se analizan los tipos de propiedades presentes en el dataset, es decir, la columna `property_type`."
      ]
    },
    {
      "cell_type": "code",
      "execution_count": 56,
      "metadata": {},
      "outputs": [
        {
          "name": "stdout",
          "output_type": "stream",
          "text": [
            "Venta                750831\n",
            "Alquiler             207490\n",
            "Alquiler temporal     41679\n",
            "Name: operation_type, dtype: int64\n"
          ]
        },
        {
          "data": {
            "image/png": "[encoded data removed]",
            "text/plain": [
              "<Figure size 432x288 with 1 Axes>"
            ]
          },
          "metadata": {
            "needs_background": "light"
          },
          "output_type": "display_data"
        },
        {
          "name": "stdout",
          "output_type": "stream",
          "text": [
            "Venta    1087\n",
            "Name: operation_type, dtype: int64\n"
          ]
        },
        {
          "data": {
            "image/png": "[encoded data removed]",
            "text/plain": [
              "<Figure size 432x288 with 1 Axes>"
            ]
          },
          "metadata": {
            "needs_background": "light"
          },
          "output_type": "display_data"
        }
      ],
      "source": [
        "def analisis_operaciones_propiedades(df, tipo_df=\"entrenamiento\"):\n",
        "    print(df.operation_type.value_counts())\n",
        "    _ = df.property_type.value_counts().plot.bar(rot=45, title=\"Frecuencia segun Tipos de propiedad\")\n",
        "    plt.show()\n",
        "\n",
        "analisis_operaciones_propiedades(df_entrenamiento_inicial)\n",
        "analisis_operaciones_propiedades(df_prueba_inicial)\n"
      ]
    },
    {
      "cell_type": "markdown",
      "metadata": {},
      "source": [
        "Para el caso de entrenamiento:\n",
        "- A partir de lo anterior, tenemos entonces una preminencia de propiedades de tipo Deptos, casas y lotes.\n",
        "- Por el lado del tipo de operación, el tipo `Venta` representa prácticamente el 75% de las observaciones.\n",
        "\n",
        "Para pruebas:\n",
        "- Se observa que son solo operaciones de venta\n",
        "- Lo unico presente en el dataset son Deptos y PHs\n",
        "\n",
        "Analizamos la distribución por Pais:"
      ]
    },
    {
      "cell_type": "code",
      "execution_count": 59,
      "metadata": {},
      "outputs": [
        {
          "name": "stdout",
          "output_type": "stream",
          "text": [
            "Argentina         983115\n",
            "Uruguay            15749\n",
            "Estados Unidos       892\n",
            "Brasil               244\n",
            "Name: l1, dtype: int64\n",
            "Argentina    1087\n",
            "Name: l1, dtype: int64\n"
          ]
        }
      ],
      "source": [
        "print(df_entrenamiento_inicial.l1.value_counts())\n",
        "print(df_prueba_inicial.l1.value_counts())\n"
      ]
    },
    {
      "cell_type": "markdown",
      "metadata": {},
      "source": [
        "Interesa particularmente ver cuantas publicaciones existen para Argentina, en dolares, en el df de entrenamiento:"
      ]
    },
    {
      "cell_type": "code",
      "execution_count": 60,
      "metadata": {},
      "outputs": [
        {
          "name": "stdout",
          "output_type": "stream",
          "text": [
            "USD    724879\n",
            "ARS    214114\n",
            "PEN       292\n",
            "COP         3\n",
            "Name: currency, dtype: int64\n"
          ]
        }
      ],
      "source": [
        "print(df_entrenamiento_inicial.currency[df_entrenamiento_inicial.l1 == \"Argentina\"].value_counts())\n"
      ]
    },
    {
      "cell_type": "markdown",
      "metadata": {},
      "source": [
        "Observamos entonces que existen aprox un ~72% de publicaciones que son de Argentina en dolares."
      ]
    },
    {
      "cell_type": "markdown",
      "metadata": {},
      "source": [
        "## Generación de dataset limpio\n",
        "\n",
        "Para organizar el código, acá se definen una serie de reglas de limpieza inicial, Que se guardaran para su uso en las etapas siguientes sin tener que re-ejecutar todo estos pasos nuevamente."
      ]
    },
    {
      "cell_type": "markdown",
      "metadata": {},
      "source": [
        "**Definiciones del dataset**\n",
        "\n",
        "- Se conservan solo filas con currency en dolares.\n",
        "- Se conservan filas que solo sean de argentina.\n",
        "- Se conservan solo las operaciones de venta.\n",
        "- Se mantienen en el df aquellas propiedades de tipo Departamentos y PH."
      ]
    },
    {
      "cell_type": "code",
      "execution_count": 62,
      "metadata": {},
      "outputs": [
        {
          "name": "stdout",
          "output_type": "stream",
          "text": [
            "1000000\n",
            "738157\n",
            "724879\n",
            "686272\n",
            "334462\n"
          ]
        }
      ],
      "source": [
        "print(len(df_entrenamiento_inicial))\n",
        "df_entrenamiento_limpio = df_entrenamiento_inicial[df_entrenamiento_inicial.currency == 'USD']\n",
        "print(len(df_entrenamiento_limpio))\n",
        "df_entrenamiento_limpio = df_entrenamiento_limpio[df_entrenamiento_limpio.l1 == 'Argentina']\n",
        "print(len(df_entrenamiento_limpio))\n",
        "df_entrenamiento_limpio = df_entrenamiento_limpio[df_entrenamiento_limpio.operation_type == 'Venta']\n",
        "print(len(df_entrenamiento_limpio))\n",
        "df_entrenamiento_limpio = df_entrenamiento_limpio[df_entrenamiento_limpio.property_type.isin(['Departamento', 'PH'])]\n",
        "print(len(df_entrenamiento_limpio))\n"
      ]
    },
    {
      "cell_type": "markdown",
      "metadata": {},
      "source": [
        "Con este filtrado nos quedamos con el 33% del dataset."
      ]
    },
    {
      "cell_type": "code",
      "execution_count": 65,
      "metadata": {},
      "outputs": [],
      "source": [
        "df_entrenamiento_limpio.to_csv(archivo_limpieza_inicial, index=False)\n"
      ]
    },
    {
      "cell_type": "markdown",
      "metadata": {
        "id": "byV0dQi-yiEd"
      },
      "source": [
        "# Análisis del conjunto de datos\n",
        "\n",
        "Se analizan ambos datasets para conocerlos y caracterizarlos.\n",
        "\n",
        "El nuevo dataset de entrenamiento es el limpio.\n"
      ]
    },
    {
      "cell_type": "code",
      "execution_count": 66,
      "metadata": {},
      "outputs": [],
      "source": [
        "df_entrenamiento_inicial = pd.read_csv(archivo_limpieza_inicial)\n"
      ]
    },
    {
      "cell_type": "code",
      "execution_count": 67,
      "metadata": {},
      "outputs": [
        {
          "data": {
            "text/html": [
              "<div>\n",
              "<style scoped>\n",
              "    .dataframe tbody tr th:only-of-type {\n",
              "        vertical-align: middle;\n",
              "    }\n",
              "\n",
              "    .dataframe tbody tr th {\n",
              "        vertical-align: top;\n",
              "    }\n",
              "\n",
              "    .dataframe thead th {\n",
              "        text-align: right;\n",
              "    }\n",
              "</style>\n",
              "<table border=\"1\" class=\"dataframe\">\n",
              "  <thead>\n",
              "    <tr style=\"text-align: right;\">\n",
              "      <th></th>\n",
              "      <th>id</th>\n",
              "      <th>ad_type</th>\n",
              "      <th>start_date</th>\n",
              "      <th>end_date</th>\n",
              "      <th>created_on</th>\n",
              "      <th>lat</th>\n",
              "      <th>lon</th>\n",
              "      <th>l1</th>\n",
              "      <th>l2</th>\n",
              "      <th>l3</th>\n",
              "      <th>...</th>\n",
              "      <th>bathrooms</th>\n",
              "      <th>surface_total</th>\n",
              "      <th>surface_covered</th>\n",
              "      <th>price</th>\n",
              "      <th>currency</th>\n",
              "      <th>price_period</th>\n",
              "      <th>title</th>\n",
              "      <th>description</th>\n",
              "      <th>property_type</th>\n",
              "      <th>operation_type</th>\n",
              "    </tr>\n",
              "  </thead>\n",
              "  <tbody>\n",
              "    <tr>\n",
              "      <th>0</th>\n",
              "      <td>U3qdJMKXnOJm0Y1tWpnnfg==</td>\n",
              "      <td>Propiedad</td>\n",
              "      <td>2020-08-22</td>\n",
              "      <td>2020-09-04</td>\n",
              "      <td>2020-08-22</td>\n",
              "      <td>-34.597364</td>\n",
              "      <td>-58.372987</td>\n",
              "      <td>Argentina</td>\n",
              "      <td>Capital Federal</td>\n",
              "      <td>Retiro</td>\n",
              "      <td>...</td>\n",
              "      <td>NaN</td>\n",
              "      <td>NaN</td>\n",
              "      <td>25.0</td>\n",
              "      <td>85000.0</td>\n",
              "      <td>USD</td>\n",
              "      <td>Mensual</td>\n",
              "      <td>Departamento - Capital Federal</td>\n",
              "      <td>EXCELENTE DEPTO MUY LUMINOSO, &lt;br&gt;&lt;br&gt;LAS MEDI...</td>\n",
              "      <td>Departamento</td>\n",
              "      <td>Venta</td>\n",
              "    </tr>\n",
              "    <tr>\n",
              "      <th>1</th>\n",
              "      <td>gsQB/JzLxaQdBLfNcm/DMw==</td>\n",
              "      <td>Propiedad</td>\n",
              "      <td>2020-08-22</td>\n",
              "      <td>2020-09-04</td>\n",
              "      <td>2020-08-22</td>\n",
              "      <td>-34.600004</td>\n",
              "      <td>-58.417191</td>\n",
              "      <td>Argentina</td>\n",
              "      <td>Capital Federal</td>\n",
              "      <td>Almagro</td>\n",
              "      <td>...</td>\n",
              "      <td>1.0</td>\n",
              "      <td>38.0</td>\n",
              "      <td>31.0</td>\n",
              "      <td>110000.0</td>\n",
              "      <td>USD</td>\n",
              "      <td>Mensual</td>\n",
              "      <td>Monoambiente c/Cochera Fija Cubierta. Edif c/P...</td>\n",
              "      <td>Monoambiente de 38m² en muy buen estado con Am...</td>\n",
              "      <td>Departamento</td>\n",
              "      <td>Venta</td>\n",
              "    </tr>\n",
              "    <tr>\n",
              "      <th>2</th>\n",
              "      <td>SlPt6GJRjM+cO4rD3n3HFQ==</td>\n",
              "      <td>Propiedad</td>\n",
              "      <td>2020-08-22</td>\n",
              "      <td>2020-09-04</td>\n",
              "      <td>2020-08-22</td>\n",
              "      <td>-34.581699</td>\n",
              "      <td>-58.433547</td>\n",
              "      <td>Argentina</td>\n",
              "      <td>Capital Federal</td>\n",
              "      <td>Palermo</td>\n",
              "      <td>...</td>\n",
              "      <td>1.0</td>\n",
              "      <td>35.0</td>\n",
              "      <td>30.0</td>\n",
              "      <td>105000.0</td>\n",
              "      <td>USD</td>\n",
              "      <td>Mensual</td>\n",
              "      <td>Oportunidad!!!!Palermo Hollywood Monoamb amobl...</td>\n",
              "      <td>RETASADO Venta Palermo Niceto Vega y Bonpland ...</td>\n",
              "      <td>Departamento</td>\n",
              "      <td>Venta</td>\n",
              "    </tr>\n",
              "    <tr>\n",
              "      <th>3</th>\n",
              "      <td>ZaH+6DXJ4MLM6QqZXhgWiw==</td>\n",
              "      <td>Propiedad</td>\n",
              "      <td>2020-08-22</td>\n",
              "      <td>2020-09-04</td>\n",
              "      <td>2020-08-22</td>\n",
              "      <td>-34.595044</td>\n",
              "      <td>-58.442538</td>\n",
              "      <td>Argentina</td>\n",
              "      <td>Capital Federal</td>\n",
              "      <td>Palermo</td>\n",
              "      <td>...</td>\n",
              "      <td>1.0</td>\n",
              "      <td>51.0</td>\n",
              "      <td>46.0</td>\n",
              "      <td>150000.0</td>\n",
              "      <td>USD</td>\n",
              "      <td>Mensual</td>\n",
              "      <td>2 AMBIENTES CON COCHERA Y PARRILLA EN VILLA CR...</td>\n",
              "      <td>CONTACTO: 11- (LLAMADOS O WHATSAPP)&lt;br&gt;&lt;br&gt;EXC...</td>\n",
              "      <td>Departamento</td>\n",
              "      <td>Venta</td>\n",
              "    </tr>\n",
              "    <tr>\n",
              "      <th>4</th>\n",
              "      <td>r7qrM5xaYo8QImSnqyKyYA==</td>\n",
              "      <td>Propiedad</td>\n",
              "      <td>2020-08-22</td>\n",
              "      <td>2020-09-04</td>\n",
              "      <td>2020-08-22</td>\n",
              "      <td>-34.582549</td>\n",
              "      <td>-58.417350</td>\n",
              "      <td>Argentina</td>\n",
              "      <td>Capital Federal</td>\n",
              "      <td>Palermo</td>\n",
              "      <td>...</td>\n",
              "      <td>1.0</td>\n",
              "      <td>53.0</td>\n",
              "      <td>53.0</td>\n",
              "      <td>136500.0</td>\n",
              "      <td>USD</td>\n",
              "      <td>Mensual</td>\n",
              "      <td>2 AMB EN PALERMO</td>\n",
              "      <td>2 AMBIENTES CON 2 BALCÓNES PISO 8&lt;br&gt;&lt;br&gt;Inmej...</td>\n",
              "      <td>Departamento</td>\n",
              "      <td>Venta</td>\n",
              "    </tr>\n",
              "  </tbody>\n",
              "</table>\n",
              "<p>5 rows × 25 columns</p>\n",
              "</div>"
            ],
            "text/plain": [
              "                         id    ad_type  start_date    end_date  created_on  \\\n",
              "0  U3qdJMKXnOJm0Y1tWpnnfg==  Propiedad  2020-08-22  2020-09-04  2020-08-22   \n",
              "1  gsQB/JzLxaQdBLfNcm/DMw==  Propiedad  2020-08-22  2020-09-04  2020-08-22   \n",
              "2  SlPt6GJRjM+cO4rD3n3HFQ==  Propiedad  2020-08-22  2020-09-04  2020-08-22   \n",
              "3  ZaH+6DXJ4MLM6QqZXhgWiw==  Propiedad  2020-08-22  2020-09-04  2020-08-22   \n",
              "4  r7qrM5xaYo8QImSnqyKyYA==  Propiedad  2020-08-22  2020-09-04  2020-08-22   \n",
              "\n",
              "         lat        lon         l1               l2       l3  ... bathrooms  \\\n",
              "0 -34.597364 -58.372987  Argentina  Capital Federal   Retiro  ...       NaN   \n",
              "1 -34.600004 -58.417191  Argentina  Capital Federal  Almagro  ...       1.0   \n",
              "2 -34.581699 -58.433547  Argentina  Capital Federal  Palermo  ...       1.0   \n",
              "3 -34.595044 -58.442538  Argentina  Capital Federal  Palermo  ...       1.0   \n",
              "4 -34.582549 -58.417350  Argentina  Capital Federal  Palermo  ...       1.0   \n",
              "\n",
              "  surface_total  surface_covered     price  currency  price_period  \\\n",
              "0           NaN             25.0   85000.0       USD       Mensual   \n",
              "1          38.0             31.0  110000.0       USD       Mensual   \n",
              "2          35.0             30.0  105000.0       USD       Mensual   \n",
              "3          51.0             46.0  150000.0       USD       Mensual   \n",
              "4          53.0             53.0  136500.0       USD       Mensual   \n",
              "\n",
              "                                               title  \\\n",
              "0                     Departamento - Capital Federal   \n",
              "1  Monoambiente c/Cochera Fija Cubierta. Edif c/P...   \n",
              "2  Oportunidad!!!!Palermo Hollywood Monoamb amobl...   \n",
              "3  2 AMBIENTES CON COCHERA Y PARRILLA EN VILLA CR...   \n",
              "4                                   2 AMB EN PALERMO   \n",
              "\n",
              "                                         description  property_type  \\\n",
              "0  EXCELENTE DEPTO MUY LUMINOSO, <br><br>LAS MEDI...   Departamento   \n",
              "1  Monoambiente de 38m² en muy buen estado con Am...   Departamento   \n",
              "2  RETASADO Venta Palermo Niceto Vega y Bonpland ...   Departamento   \n",
              "3  CONTACTO: 11- (LLAMADOS O WHATSAPP)<br><br>EXC...   Departamento   \n",
              "4  2 AMBIENTES CON 2 BALCÓNES PISO 8<br><br>Inmej...   Departamento   \n",
              "\n",
              "  operation_type  \n",
              "0          Venta  \n",
              "1          Venta  \n",
              "2          Venta  \n",
              "3          Venta  \n",
              "4          Venta  \n",
              "\n",
              "[5 rows x 25 columns]"
            ]
          },
          "execution_count": 67,
          "metadata": {},
          "output_type": "execute_result"
        }
      ],
      "source": [
        "df_entrenamiento_inicial.head()"
      ]
    },
    {
      "cell_type": "markdown",
      "metadata": {},
      "source": [
        "Se observan 24 columnas con datos de diversa indole.\n",
        "\n",
        "Las columnas son:"
      ]
    },
    {
      "cell_type": "code",
      "execution_count": 68,
      "metadata": {},
      "outputs": [
        {
          "data": {
            "text/plain": [
              "id                  object\n",
              "ad_type             object\n",
              "start_date          object\n",
              "end_date            object\n",
              "created_on          object\n",
              "lat                float64\n",
              "lon                float64\n",
              "l1                  object\n",
              "l2                  object\n",
              "l3                  object\n",
              "l4                  object\n",
              "l5                  object\n",
              "l6                 float64\n",
              "rooms              float64\n",
              "bedrooms           float64\n",
              "bathrooms          float64\n",
              "surface_total      float64\n",
              "surface_covered    float64\n",
              "price              float64\n",
              "currency            object\n",
              "price_period        object\n",
              "title               object\n",
              "description         object\n",
              "property_type       object\n",
              "operation_type      object\n",
              "dtype: object"
            ]
          },
          "execution_count": 68,
          "metadata": {},
          "output_type": "execute_result"
        }
      ],
      "source": [
        "df_entrenamiento_inicial.dtypes"
      ]
    },
    {
      "cell_type": "markdown",
      "metadata": {},
      "source": [
        "En principio hay preeminencia de columnas no numéricas."
      ]
    },
    {
      "cell_type": "code",
      "execution_count": 69,
      "metadata": {},
      "outputs": [
        {
          "data": {
            "text/plain": [
              "object     16\n",
              "float64     9\n",
              "dtype: int64"
            ]
          },
          "execution_count": 69,
          "metadata": {},
          "output_type": "execute_result"
        }
      ],
      "source": [
        "df_entrenamiento_inicial.dtypes.value_counts()"
      ]
    },
    {
      "cell_type": "code",
      "execution_count": 70,
      "metadata": {},
      "outputs": [
        {
          "name": "stdout",
          "output_type": "stream",
          "text": [
            "<class 'pandas.core.frame.DataFrame'>\n",
            "RangeIndex: 334462 entries, 0 to 334461\n",
            "Data columns (total 25 columns):\n",
            " #   Column           Non-Null Count   Dtype  \n",
            "---  ------           --------------   -----  \n",
            " 0   id               334462 non-null  object \n",
            " 1   ad_type          334462 non-null  object \n",
            " 2   start_date       334462 non-null  object \n",
            " 3   end_date         334462 non-null  object \n",
            " 4   created_on       334462 non-null  object \n",
            " 5   lat              309275 non-null  float64\n",
            " 6   lon              309250 non-null  float64\n",
            " 7   l1               334462 non-null  object \n",
            " 8   l2               334462 non-null  object \n",
            " 9   l3               329298 non-null  object \n",
            " 10  l4               88031 non-null   object \n",
            " 11  l5               683 non-null     object \n",
            " 12  l6               0 non-null       float64\n",
            " 13  rooms            310881 non-null  float64\n",
            " 14  bedrooms         271479 non-null  float64\n",
            " 15  bathrooms        311829 non-null  float64\n",
            " 16  surface_total    174747 non-null  float64\n",
            " 17  surface_covered  182823 non-null  float64\n",
            " 18  price            334462 non-null  float64\n",
            " 19  currency         334462 non-null  object \n",
            " 20  price_period     126393 non-null  object \n",
            " 21  title            334462 non-null  object \n",
            " 22  description      334459 non-null  object \n",
            " 23  property_type    334462 non-null  object \n",
            " 24  operation_type   334462 non-null  object \n",
            "dtypes: float64(9), object(16)\n",
            "memory usage: 63.8+ MB\n"
          ]
        }
      ],
      "source": [
        "df_entrenamiento_inicial.info()"
      ]
    },
    {
      "cell_type": "markdown",
      "metadata": {},
      "source": [
        "Vamos a describir a continuación cada columna. El Id no se lista pero es la columna 25. No es el index del dataframe.\n",
        "\n",
        "| # | Columna | Descripción |\n",
        "|---|---------|-------------|\n",
        "| 1 | ad_type   | Tipo de publicación o aviso |\n",
        "|---|---------|-------------|\n",
        "| 2 | start_date    | Fecha de alta |\n",
        "| 3 | end_date  | Fecha de baja |\n",
        "| 4 | created_on    | Fecha de alta de la primer versión |\n",
        "|---|---------|-------------|\n",
        "| 5 | lat   | Latitud |\n",
        "| 6 | lon   | Longitud |\n",
        "| 7 | l1    | País |\n",
        "| 8 | l2    | Provincia |\n",
        "| 9 | l3    | Ciudad |\n",
        "| 10 | l4    | Barrio |\n",
        "| 11 | l5    | ??? |\n",
        "| 12 | l6    | ??? |\n",
        "|---|---------|-------------|\n",
        "| 13 | rooms | Cantidad de ambientes |\n",
        "| 14 | bedrooms  | Cantidad de dormitorios |\n",
        "| 15 | bathrooms | Cantidad de baños |\n",
        "| 16 | surface_total | Superficie en m² |\n",
        "| 17 | surface_covered   | Superficie cubierta en m² |\n",
        "| 18 | price | Precio publicado |\n",
        "| 19 | currency  | Moneda del precio |\n",
        "| 20 | price_period  | si el precio es diario, semanal, mensual |\n",
        "| 21 | title | título del anuncio |\n",
        "| 22 | description   | descripcion del anuncio |\n",
        "| 23 | property_type | Si es casa, depto, PH... |\n",
        "| 24 | operation_type    | Si es venta, alquiler... |"
      ]
    },
    {
      "cell_type": "markdown",
      "metadata": {},
      "source": [
        "Agrupamos los diferentes conceptos del dataset por columnas relacionadas:"
      ]
    },
    {
      "cell_type": "code",
      "execution_count": 75,
      "metadata": {},
      "outputs": [],
      "source": [
        "columnas_id = [\"id\", \"ad_type\", ]\n",
        "columnas_fecha = [\"start_date\", \"end_date\", \"created_on\", ]\n",
        "columnas_ubicacion = [\n",
        "    \"lat\",\n",
        "    \"lon\",\n",
        "    \"l1\",\n",
        "    \"l2\",\n",
        "    \"l3\",\n",
        "    \"l4\",\n",
        "    \"l5\",\n",
        "    \"l6\",\n",
        "]\n",
        "columnas_publicacion = [\n",
        "    \"rooms\",\n",
        "    \"bedrooms\",\n",
        "    \"bathrooms\",\n",
        "    \"surface_total\",\n",
        "    \"surface_covered\",\n",
        "    \"price\",\n",
        "    \"currency\",\n",
        "    \"price_period\",\n",
        "    \"title\",\n",
        "    \"description\",\n",
        "    \"property_type\",\n",
        "    \"operation_type\",\n",
        "]\n"
      ]
    },
    {
      "cell_type": "markdown",
      "metadata": {},
      "source": [
        "## Estudio de columnas de ubicación\n",
        "\n",
        "A continuación se estudian los valores relacionados a las columnas de ubicación"
      ]
    },
    {
      "cell_type": "code",
      "execution_count": 76,
      "metadata": {},
      "outputs": [
        {
          "name": "stdout",
          "output_type": "stream",
          "text": [
            "         lat        lon         l1                            l2  \\\n",
            "0 -34.407468 -58.957367  Argentina      Bs.As. G.B.A. Zona Norte   \n",
            "1 -37.996039 -57.542509  Argentina  Buenos Aires Costa Atlántica   \n",
            "2 -31.380187 -58.009182  Argentina                    Entre Ríos   \n",
            "3 -27.494106 -55.123455  Argentina                      Misiones   \n",
            "4 -32.948856 -60.630464  Argentina                      Santa Fe   \n",
            "\n",
            "              l3   l4   l5  l6  \n",
            "0          Pilar  NaN  NaN NaN  \n",
            "1  Mar del Plata  NaN  NaN NaN  \n",
            "2      Concordia  NaN  NaN NaN  \n",
            "3          Oberá  NaN  NaN NaN  \n",
            "4        Rosario  NaN  NaN NaN  \n"
          ]
        },
        {
          "data": {
            "text/html": [
              "<div>\n",
              "<style scoped>\n",
              "    .dataframe tbody tr th:only-of-type {\n",
              "        vertical-align: middle;\n",
              "    }\n",
              "\n",
              "    .dataframe tbody tr th {\n",
              "        vertical-align: top;\n",
              "    }\n",
              "\n",
              "    .dataframe thead th {\n",
              "        text-align: right;\n",
              "    }\n",
              "</style>\n",
              "<table border=\"1\" class=\"dataframe\">\n",
              "  <thead>\n",
              "    <tr style=\"text-align: right;\">\n",
              "      <th></th>\n",
              "      <th>lat</th>\n",
              "      <th>lon</th>\n",
              "      <th>l1</th>\n",
              "      <th>l2</th>\n",
              "      <th>l3</th>\n",
              "      <th>l4</th>\n",
              "      <th>l5</th>\n",
              "      <th>l6</th>\n",
              "    </tr>\n",
              "  </thead>\n",
              "  <tbody>\n",
              "    <tr>\n",
              "      <th>999995</th>\n",
              "      <td>-32.958863</td>\n",
              "      <td>-60.665633</td>\n",
              "      <td>Argentina</td>\n",
              "      <td>Santa Fe</td>\n",
              "      <td>Rosario</td>\n",
              "      <td>NaN</td>\n",
              "      <td>NaN</td>\n",
              "      <td>NaN</td>\n",
              "    </tr>\n",
              "    <tr>\n",
              "      <th>999996</th>\n",
              "      <td>-34.596587</td>\n",
              "      <td>-58.376893</td>\n",
              "      <td>Argentina</td>\n",
              "      <td>Capital Federal</td>\n",
              "      <td>Retiro</td>\n",
              "      <td>NaN</td>\n",
              "      <td>NaN</td>\n",
              "      <td>NaN</td>\n",
              "    </tr>\n",
              "    <tr>\n",
              "      <th>999997</th>\n",
              "      <td>-34.576445</td>\n",
              "      <td>-58.432603</td>\n",
              "      <td>Argentina</td>\n",
              "      <td>Capital Federal</td>\n",
              "      <td>Palermo</td>\n",
              "      <td>NaN</td>\n",
              "      <td>NaN</td>\n",
              "      <td>NaN</td>\n",
              "    </tr>\n",
              "    <tr>\n",
              "      <th>999998</th>\n",
              "      <td>-32.866636</td>\n",
              "      <td>-68.841144</td>\n",
              "      <td>Argentina</td>\n",
              "      <td>Mendoza</td>\n",
              "      <td>NaN</td>\n",
              "      <td>NaN</td>\n",
              "      <td>NaN</td>\n",
              "      <td>NaN</td>\n",
              "    </tr>\n",
              "    <tr>\n",
              "      <th>999999</th>\n",
              "      <td>-34.447524</td>\n",
              "      <td>-58.631552</td>\n",
              "      <td>Argentina</td>\n",
              "      <td>Bs.As. G.B.A. Zona Norte</td>\n",
              "      <td>Tigre</td>\n",
              "      <td>Santa Barbara Barrio Cerrado</td>\n",
              "      <td>NaN</td>\n",
              "      <td>NaN</td>\n",
              "    </tr>\n",
              "  </tbody>\n",
              "</table>\n",
              "</div>"
            ],
            "text/plain": [
              "              lat        lon         l1                        l2       l3  \\\n",
              "999995 -32.958863 -60.665633  Argentina                  Santa Fe  Rosario   \n",
              "999996 -34.596587 -58.376893  Argentina           Capital Federal   Retiro   \n",
              "999997 -34.576445 -58.432603  Argentina           Capital Federal  Palermo   \n",
              "999998 -32.866636 -68.841144  Argentina                   Mendoza      NaN   \n",
              "999999 -34.447524 -58.631552  Argentina  Bs.As. G.B.A. Zona Norte    Tigre   \n",
              "\n",
              "                                  l4   l5  l6  \n",
              "999995                           NaN  NaN NaN  \n",
              "999996                           NaN  NaN NaN  \n",
              "999997                           NaN  NaN NaN  \n",
              "999998                           NaN  NaN NaN  \n",
              "999999  Santa Barbara Barrio Cerrado  NaN NaN  "
            ]
          },
          "execution_count": 76,
          "metadata": {},
          "output_type": "execute_result"
        }
      ],
      "source": [
        "print(df_entrenamiento_inicial[columnas_ubicacion].head())\n",
        "df_entrenamiento_inicial[columnas_ubicacion].tail()\n"
      ]
    },
    {
      "cell_type": "code",
      "execution_count": 77,
      "metadata": {},
      "outputs": [
        {
          "name": "stdout",
          "output_type": "stream",
          "text": [
            "Colname - % de nulls\n"
          ]
        },
        {
          "data": {
            "text/plain": [
              "lat    0.105767\n",
              "lon    0.105809\n",
              "l1     0.000000\n",
              "l2     0.000000\n",
              "l3     0.034727\n",
              "l4     0.693838\n",
              "l5     0.994470\n",
              "l6     1.000000\n",
              "dtype: float64"
            ]
          },
          "execution_count": 77,
          "metadata": {},
          "output_type": "execute_result"
        }
      ],
      "source": [
        "print(\"Colname - % de nulls\")\n",
        "df_entrenamiento_inicial[columnas_ubicacion].isna(\n",
        ").sum() / len(df_entrenamiento_inicial)\n"
      ]
    },
    {
      "cell_type": "markdown",
      "metadata": {},
      "source": [
        "Al parecer l5 es candidata a desaparecer y l6 será eliminada seguramente.\n",
        "\n",
        "Miraremos a continuación la distribución de las columnas númericas."
      ]
    },
    {
      "cell_type": "code",
      "execution_count": 78,
      "metadata": {},
      "outputs": [
        {
          "data": {
            "text/plain": [
              "<AxesSubplot:>"
            ]
          },
          "execution_count": 78,
          "metadata": {},
          "output_type": "execute_result"
        },
        {
          "data": {
            "image/png": "[encoded data removed]",
            "text/plain": [
              "<Figure size 432x288 with 1 Axes>"
            ]
          },
          "metadata": {
            "needs_background": "light"
          },
          "output_type": "display_data"
        }
      ],
      "source": [
        "df_entrenamiento_inicial[columnas_ubicacion].boxplot()\n"
      ]
    },
    {
      "cell_type": "markdown",
      "metadata": {},
      "source": [
        "## Estudio de columnas de fechas\n",
        "\n",
        "A continuación se estudian los valores relacionados a las columnas de fechas"
      ]
    },
    {
      "cell_type": "code",
      "execution_count": 79,
      "metadata": {},
      "outputs": [
        {
          "name": "stdout",
          "output_type": "stream",
          "text": [
            "<class 'pandas.core.frame.DataFrame'>\n",
            "RangeIndex: 1000000 entries, 0 to 999999\n",
            "Data columns (total 3 columns):\n",
            " #   Column      Non-Null Count    Dtype \n",
            "---  ------      --------------    ----- \n",
            " 0   start_date  1000000 non-null  object\n",
            " 1   end_date    1000000 non-null  object\n",
            " 2   created_on  1000000 non-null  object\n",
            "dtypes: object(3)\n",
            "memory usage: 22.9+ MB\n"
          ]
        }
      ],
      "source": [
        "df_entrenamiento_inicial[columnas_fecha].info()"
      ]
    },
    {
      "cell_type": "markdown",
      "metadata": {},
      "source": [
        "Son columnas strings, no datetime"
      ]
    },
    {
      "cell_type": "code",
      "execution_count": 80,
      "metadata": {},
      "outputs": [
        {
          "data": {
            "text/html": [
              "<div>\n",
              "<style scoped>\n",
              "    .dataframe tbody tr th:only-of-type {\n",
              "        vertical-align: middle;\n",
              "    }\n",
              "\n",
              "    .dataframe tbody tr th {\n",
              "        vertical-align: top;\n",
              "    }\n",
              "\n",
              "    .dataframe thead th {\n",
              "        text-align: right;\n",
              "    }\n",
              "</style>\n",
              "<table border=\"1\" class=\"dataframe\">\n",
              "  <thead>\n",
              "    <tr style=\"text-align: right;\">\n",
              "      <th></th>\n",
              "      <th>start_date</th>\n",
              "      <th>end_date</th>\n",
              "      <th>created_on</th>\n",
              "    </tr>\n",
              "  </thead>\n",
              "  <tbody>\n",
              "    <tr>\n",
              "      <th>0</th>\n",
              "      <td>2020-08-22</td>\n",
              "      <td>2020-09-03</td>\n",
              "      <td>2020-08-22</td>\n",
              "    </tr>\n",
              "    <tr>\n",
              "      <th>1</th>\n",
              "      <td>2020-08-22</td>\n",
              "      <td>2020-09-04</td>\n",
              "      <td>2020-08-22</td>\n",
              "    </tr>\n",
              "    <tr>\n",
              "      <th>2</th>\n",
              "      <td>2020-08-22</td>\n",
              "      <td>2020-08-31</td>\n",
              "      <td>2020-08-22</td>\n",
              "    </tr>\n",
              "    <tr>\n",
              "      <th>3</th>\n",
              "      <td>2020-08-22</td>\n",
              "      <td>2020-09-04</td>\n",
              "      <td>2020-08-22</td>\n",
              "    </tr>\n",
              "    <tr>\n",
              "      <th>4</th>\n",
              "      <td>2020-08-22</td>\n",
              "      <td>2020-09-04</td>\n",
              "      <td>2020-08-22</td>\n",
              "    </tr>\n",
              "  </tbody>\n",
              "</table>\n",
              "</div>"
            ],
            "text/plain": [
              "   start_date    end_date  created_on\n",
              "0  2020-08-22  2020-09-03  2020-08-22\n",
              "1  2020-08-22  2020-09-04  2020-08-22\n",
              "2  2020-08-22  2020-08-31  2020-08-22\n",
              "3  2020-08-22  2020-09-04  2020-08-22\n",
              "4  2020-08-22  2020-09-04  2020-08-22"
            ]
          },
          "execution_count": 80,
          "metadata": {},
          "output_type": "execute_result"
        }
      ],
      "source": [
        "df_entrenamiento_inicial[columnas_fecha].head()\n"
      ]
    },
    {
      "cell_type": "code",
      "execution_count": 81,
      "metadata": {},
      "outputs": [
        {
          "data": {
            "text/html": [
              "<div>\n",
              "<style scoped>\n",
              "    .dataframe tbody tr th:only-of-type {\n",
              "        vertical-align: middle;\n",
              "    }\n",
              "\n",
              "    .dataframe tbody tr th {\n",
              "        vertical-align: top;\n",
              "    }\n",
              "\n",
              "    .dataframe thead th {\n",
              "        text-align: right;\n",
              "    }\n",
              "</style>\n",
              "<table border=\"1\" class=\"dataframe\">\n",
              "  <thead>\n",
              "    <tr style=\"text-align: right;\">\n",
              "      <th></th>\n",
              "      <th>start_date</th>\n",
              "      <th>end_date</th>\n",
              "      <th>created_on</th>\n",
              "    </tr>\n",
              "  </thead>\n",
              "  <tbody>\n",
              "    <tr>\n",
              "      <th>count</th>\n",
              "      <td>1000000</td>\n",
              "      <td>1000000</td>\n",
              "      <td>1000000</td>\n",
              "    </tr>\n",
              "    <tr>\n",
              "      <th>unique</th>\n",
              "      <td>362</td>\n",
              "      <td>450</td>\n",
              "      <td>362</td>\n",
              "    </tr>\n",
              "    <tr>\n",
              "      <th>top</th>\n",
              "      <td>2020-10-02</td>\n",
              "      <td>9999-12-31</td>\n",
              "      <td>2020-10-02</td>\n",
              "    </tr>\n",
              "    <tr>\n",
              "      <th>freq</th>\n",
              "      <td>25159</td>\n",
              "      <td>208960</td>\n",
              "      <td>25159</td>\n",
              "    </tr>\n",
              "  </tbody>\n",
              "</table>\n",
              "</div>"
            ],
            "text/plain": [
              "        start_date    end_date  created_on\n",
              "count      1000000     1000000     1000000\n",
              "unique         362         450         362\n",
              "top     2020-10-02  9999-12-31  2020-10-02\n",
              "freq         25159      208960       25159"
            ]
          },
          "execution_count": 81,
          "metadata": {},
          "output_type": "execute_result"
        }
      ],
      "source": [
        "df_entrenamiento_inicial[columnas_fecha].describe()\n"
      ]
    },
    {
      "cell_type": "code",
      "execution_count": 82,
      "metadata": {},
      "outputs": [
        {
          "data": {
            "text/plain": [
              "<AxesSubplot:xlabel='start_date,end_date,created_on'>"
            ]
          },
          "execution_count": 82,
          "metadata": {},
          "output_type": "execute_result"
        },
        {
          "data": {
            "image/png": "[encoded data removed]",
            "text/plain": [
              "<Figure size 432x288 with 1 Axes>"
            ]
          },
          "metadata": {
            "needs_background": "light"
          },
          "output_type": "display_data"
        }
      ],
      "source": [
        "df_entrenamiento_inicial[columnas_fecha].value_counts().plot()\n",
        "#df_entrenamiento_inicial[columnas_fecha].value_counts()[:5].plot()\n"
      ]
    },
    {
      "cell_type": "markdown",
      "metadata": {},
      "source": [
        "Se puede observar que las combinaciones de fechas siguen un patron de \"Ley de Potencias\".\n",
        "\n",
        "¿Que pasa con cada columna individual?"
      ]
    },
    {
      "cell_type": "code",
      "execution_count": 83,
      "metadata": {},
      "outputs": [
        {
          "data": {
            "image/png": "[encoded data removed]",
            "text/plain": [
              "<Figure size 432x288 with 1 Axes>"
            ]
          },
          "metadata": {
            "needs_background": "light"
          },
          "output_type": "display_data"
        },
        {
          "data": {
            "image/png": "[encoded data removed]",
            "text/plain": [
              "<Figure size 432x288 with 1 Axes>"
            ]
          },
          "metadata": {
            "needs_background": "light"
          },
          "output_type": "display_data"
        },
        {
          "data": {
            "image/png": "[encoded data removed]",
            "text/plain": [
              "<Figure size 432x288 with 1 Axes>"
            ]
          },
          "metadata": {
            "needs_background": "light"
          },
          "output_type": "display_data"
        }
      ],
      "source": [
        "for columna in columnas_fecha:\n",
        "    df_entrenamiento_inicial[columna].value_counts()[:15].plot(kind='bar')\n",
        "    plt.title(columna)\n",
        "    plt.show()\n"
      ]
    },
    {
      "cell_type": "markdown",
      "metadata": {},
      "source": [
        "La columna `end_date` se usa bastante mal. El valor con mayor frecuencia es `9999-12-31`. El mismo aparece mas del 20 % de las veces.\n",
        "\n",
        "Por otro lado, parece que las columnas `start_date` y `created_on` son iguales."
      ]
    },
    {
      "cell_type": "code",
      "execution_count": 84,
      "metadata": {},
      "outputs": [],
      "source": [
        "assert (df_entrenamiento_inicial.start_date ==\n",
        "        df_entrenamiento_inicial.created_on).sum() == len(df_entrenamiento_inicial), \\\n",
        "        \"El ds de entrenamiento tiene diferencias entre columnas start_date y created_on\"\n"
      ]
    },
    {
      "cell_type": "markdown",
      "metadata": {},
      "source": [
        "## Estudio de columnas de publicación\n",
        "\n",
        "Las columnas de publicación son aquellas que refieren a información de la propiedad publicada."
      ]
    },
    {
      "cell_type": "code",
      "execution_count": 85,
      "metadata": {},
      "outputs": [
        {
          "data": {
            "text/html": [
              "<div>\n",
              "<style scoped>\n",
              "    .dataframe tbody tr th:only-of-type {\n",
              "        vertical-align: middle;\n",
              "    }\n",
              "\n",
              "    .dataframe tbody tr th {\n",
              "        vertical-align: top;\n",
              "    }\n",
              "\n",
              "    .dataframe thead th {\n",
              "        text-align: right;\n",
              "    }\n",
              "</style>\n",
              "<table border=\"1\" class=\"dataframe\">\n",
              "  <thead>\n",
              "    <tr style=\"text-align: right;\">\n",
              "      <th></th>\n",
              "      <th>currency</th>\n",
              "      <th>price_period</th>\n",
              "      <th>title</th>\n",
              "      <th>description</th>\n",
              "      <th>property_type</th>\n",
              "      <th>operation_type</th>\n",
              "    </tr>\n",
              "  </thead>\n",
              "  <tbody>\n",
              "    <tr>\n",
              "      <th>count</th>\n",
              "      <td>955491</td>\n",
              "      <td>429870</td>\n",
              "      <td>999999</td>\n",
              "      <td>999958</td>\n",
              "      <td>1000000</td>\n",
              "      <td>1000000</td>\n",
              "    </tr>\n",
              "    <tr>\n",
              "      <th>unique</th>\n",
              "      <td>5</td>\n",
              "      <td>3</td>\n",
              "      <td>548833</td>\n",
              "      <td>817449</td>\n",
              "      <td>10</td>\n",
              "      <td>3</td>\n",
              "    </tr>\n",
              "    <tr>\n",
              "      <th>top</th>\n",
              "      <td>USD</td>\n",
              "      <td>Mensual</td>\n",
              "      <td>casa-venta</td>\n",
              "      <td>Departamento en Alquiler de 1 dorm. en Cordoba</td>\n",
              "      <td>Departamento</td>\n",
              "      <td>Venta</td>\n",
              "    </tr>\n",
              "    <tr>\n",
              "      <th>freq</th>\n",
              "      <td>738157</td>\n",
              "      <td>429842</td>\n",
              "      <td>3338</td>\n",
              "      <td>1980</td>\n",
              "      <td>457907</td>\n",
              "      <td>750831</td>\n",
              "    </tr>\n",
              "  </tbody>\n",
              "</table>\n",
              "</div>"
            ],
            "text/plain": [
              "       currency price_period       title  \\\n",
              "count    955491       429870      999999   \n",
              "unique        5            3      548833   \n",
              "top         USD      Mensual  casa-venta   \n",
              "freq     738157       429842        3338   \n",
              "\n",
              "                                           description property_type  \\\n",
              "count                                           999958       1000000   \n",
              "unique                                          817449            10   \n",
              "top     Departamento en Alquiler de 1 dorm. en Cordoba  Departamento   \n",
              "freq                                              1980        457907   \n",
              "\n",
              "       operation_type  \n",
              "count         1000000  \n",
              "unique              3  \n",
              "top             Venta  \n",
              "freq           750831  "
            ]
          },
          "execution_count": 85,
          "metadata": {},
          "output_type": "execute_result"
        }
      ],
      "source": [
        "df_entrenamiento_inicial[columnas_publicacion].describe(include=object)"
      ]
    },
    {
      "cell_type": "code",
      "execution_count": 86,
      "metadata": {},
      "outputs": [
        {
          "data": {
            "text/html": [
              "<div>\n",
              "<style scoped>\n",
              "    .dataframe tbody tr th:only-of-type {\n",
              "        vertical-align: middle;\n",
              "    }\n",
              "\n",
              "    .dataframe tbody tr th {\n",
              "        vertical-align: top;\n",
              "    }\n",
              "\n",
              "    .dataframe thead th {\n",
              "        text-align: right;\n",
              "    }\n",
              "</style>\n",
              "<table border=\"1\" class=\"dataframe\">\n",
              "  <thead>\n",
              "    <tr style=\"text-align: right;\">\n",
              "      <th></th>\n",
              "      <th>rooms</th>\n",
              "      <th>bedrooms</th>\n",
              "      <th>bathrooms</th>\n",
              "      <th>surface_total</th>\n",
              "      <th>surface_covered</th>\n",
              "      <th>price</th>\n",
              "    </tr>\n",
              "  </thead>\n",
              "  <tbody>\n",
              "    <tr>\n",
              "      <th>count</th>\n",
              "      <td>714179.000000</td>\n",
              "      <td>649933.000000</td>\n",
              "      <td>765122.000000</td>\n",
              "      <td>477831.000000</td>\n",
              "      <td>4.877560e+05</td>\n",
              "      <td>9.582430e+05</td>\n",
              "    </tr>\n",
              "    <tr>\n",
              "      <th>mean</th>\n",
              "      <td>2.916567</td>\n",
              "      <td>2.097815</td>\n",
              "      <td>1.708581</td>\n",
              "      <td>513.760752</td>\n",
              "      <td>1.165622e+04</td>\n",
              "      <td>3.460940e+05</td>\n",
              "    </tr>\n",
              "    <tr>\n",
              "      <th>std</th>\n",
              "      <td>1.739685</td>\n",
              "      <td>2.079008</td>\n",
              "      <td>1.092221</td>\n",
              "      <td>4297.241604</td>\n",
              "      <td>4.443191e+06</td>\n",
              "      <td>5.713690e+06</td>\n",
              "    </tr>\n",
              "    <tr>\n",
              "      <th>min</th>\n",
              "      <td>1.000000</td>\n",
              "      <td>-16.000000</td>\n",
              "      <td>1.000000</td>\n",
              "      <td>-136.000000</td>\n",
              "      <td>-1.300000e+02</td>\n",
              "      <td>0.000000e+00</td>\n",
              "    </tr>\n",
              "    <tr>\n",
              "      <th>25%</th>\n",
              "      <td>2.000000</td>\n",
              "      <td>1.000000</td>\n",
              "      <td>1.000000</td>\n",
              "      <td>50.000000</td>\n",
              "      <td>4.500000e+01</td>\n",
              "      <td>3.800000e+04</td>\n",
              "    </tr>\n",
              "    <tr>\n",
              "      <th>50%</th>\n",
              "      <td>3.000000</td>\n",
              "      <td>2.000000</td>\n",
              "      <td>1.000000</td>\n",
              "      <td>95.000000</td>\n",
              "      <td>7.800000e+01</td>\n",
              "      <td>9.700000e+04</td>\n",
              "    </tr>\n",
              "    <tr>\n",
              "      <th>75%</th>\n",
              "      <td>4.000000</td>\n",
              "      <td>3.000000</td>\n",
              "      <td>2.000000</td>\n",
              "      <td>250.000000</td>\n",
              "      <td>1.680000e+02</td>\n",
              "      <td>2.100000e+05</td>\n",
              "    </tr>\n",
              "    <tr>\n",
              "      <th>max</th>\n",
              "      <td>40.000000</td>\n",
              "      <td>900.000000</td>\n",
              "      <td>20.000000</td>\n",
              "      <td>200000.000000</td>\n",
              "      <td>2.147484e+09</td>\n",
              "      <td>3.100000e+09</td>\n",
              "    </tr>\n",
              "  </tbody>\n",
              "</table>\n",
              "</div>"
            ],
            "text/plain": [
              "               rooms       bedrooms      bathrooms  surface_total  \\\n",
              "count  714179.000000  649933.000000  765122.000000  477831.000000   \n",
              "mean        2.916567       2.097815       1.708581     513.760752   \n",
              "std         1.739685       2.079008       1.092221    4297.241604   \n",
              "min         1.000000     -16.000000       1.000000    -136.000000   \n",
              "25%         2.000000       1.000000       1.000000      50.000000   \n",
              "50%         3.000000       2.000000       1.000000      95.000000   \n",
              "75%         4.000000       3.000000       2.000000     250.000000   \n",
              "max        40.000000     900.000000      20.000000  200000.000000   \n",
              "\n",
              "       surface_covered         price  \n",
              "count     4.877560e+05  9.582430e+05  \n",
              "mean      1.165622e+04  3.460940e+05  \n",
              "std       4.443191e+06  5.713690e+06  \n",
              "min      -1.300000e+02  0.000000e+00  \n",
              "25%       4.500000e+01  3.800000e+04  \n",
              "50%       7.800000e+01  9.700000e+04  \n",
              "75%       1.680000e+02  2.100000e+05  \n",
              "max       2.147484e+09  3.100000e+09  "
            ]
          },
          "execution_count": 86,
          "metadata": {},
          "output_type": "execute_result"
        }
      ],
      "source": [
        "df_entrenamiento_inicial[columnas_publicacion].describe()\n"
      ]
    },
    {
      "cell_type": "code",
      "execution_count": 87,
      "metadata": {},
      "outputs": [],
      "source": [
        "columnas_publicacion_sin_precio = list(columnas_publicacion)\n",
        "columnas_publicacion_sin_precio.remove('price')\n"
      ]
    },
    {
      "cell_type": "code",
      "execution_count": 88,
      "metadata": {},
      "outputs": [
        {
          "data": {
            "text/plain": [
              "<AxesSubplot:>"
            ]
          },
          "execution_count": 88,
          "metadata": {},
          "output_type": "execute_result"
        },
        {
          "data": {
            "image/png": "[encoded data removed]",
            "text/plain": [
              "<Figure size 432x288 with 1 Axes>"
            ]
          },
          "metadata": {
            "needs_background": "light"
          },
          "output_type": "display_data"
        }
      ],
      "source": [
        "df_entrenamiento_inicial[['surface_total', 'surface_covered']].boxplot(\n",
        "    showfliers=False)\n"
      ]
    },
    {
      "cell_type": "code",
      "execution_count": 89,
      "metadata": {},
      "outputs": [
        {
          "data": {
            "text/plain": [
              "<AxesSubplot:>"
            ]
          },
          "execution_count": 89,
          "metadata": {},
          "output_type": "execute_result"
        },
        {
          "data": {
            "image/png": "[encoded data removed]",
            "text/plain": [
              "<Figure size 432x288 with 1 Axes>"
            ]
          },
          "metadata": {
            "needs_background": "light"
          },
          "output_type": "display_data"
        }
      ],
      "source": [
        "df_entrenamiento_inicial[['price']].boxplot(\n",
        "    showfliers=False)\n"
      ]
    },
    {
      "cell_type": "markdown",
      "metadata": {},
      "source": [
        "En cuanto a los NaNs presentes en estas columnas, se puede observar lo siguiente:"
      ]
    },
    {
      "cell_type": "code",
      "execution_count": 111,
      "metadata": {},
      "outputs": [],
      "source": [
        "#print(\"Colname - % de nulls\")\n",
        "#df_entrenamiento_inicial[columnas_publicacion].isna(\n",
        "#).sum() / len(df_entrenamiento_inicial)\n",
        "\n",
        "#print(\"Colname - % de nulls\")\n",
        "prop_nans_por_columna = df_entrenamiento_inicial.isna(\n",
        ").sum() / len(df_entrenamiento_inicial)\n",
        "columnas_con_nans_a_descartar = list(\n",
        "    prop_nans_por_columna[prop_nans_por_columna > ELIMINAR_COLS_CON_NAN_PROPORCION].index)\n"
      ]
    },
    {
      "cell_type": "markdown",
      "metadata": {},
      "source": [
        "Se observan varios casos donde la cantidad de NaNs es mas de la mitad de las columnas"
      ]
    },
    {
      "cell_type": "code",
      "execution_count": null,
      "metadata": {},
      "outputs": [],
      "source": [
        "df_entrenamiento_inicial.boxplot(list(df_entrenamiento_inicial.columns))\n"
      ]
    },
    {
      "cell_type": "code",
      "execution_count": null,
      "metadata": {},
      "outputs": [
        {
          "data": {
            "text/html": [
              "<div>\n",
              "<style scoped>\n",
              "    .dataframe tbody tr th:only-of-type {\n",
              "        vertical-align: middle;\n",
              "    }\n",
              "\n",
              "    .dataframe tbody tr th {\n",
              "        vertical-align: top;\n",
              "    }\n",
              "\n",
              "    .dataframe thead th {\n",
              "        text-align: right;\n",
              "    }\n",
              "</style>\n",
              "<table border=\"1\" class=\"dataframe\">\n",
              "  <thead>\n",
              "    <tr style=\"text-align: right;\">\n",
              "      <th></th>\n",
              "      <th>lat</th>\n",
              "      <th>lon</th>\n",
              "      <th>l6</th>\n",
              "      <th>rooms</th>\n",
              "      <th>bedrooms</th>\n",
              "      <th>bathrooms</th>\n",
              "      <th>surface_total</th>\n",
              "      <th>surface_covered</th>\n",
              "      <th>price</th>\n",
              "    </tr>\n",
              "  </thead>\n",
              "  <tbody>\n",
              "  </tbody>\n",
              "</table>\n",
              "</div>"
            ],
            "text/plain": [
              "Empty DataFrame\n",
              "Columns: [lat, lon, l6, rooms, bedrooms, bathrooms, surface_total, surface_covered, price]\n",
              "Index: []"
            ]
          },
          "execution_count": 62,
          "metadata": {},
          "output_type": "execute_result"
        }
      ],
      "source": [
        "# Outliers analisis\n",
        "#df_entrenamiento_inicial[(np.abs(stats.zscore(df_entrenamiento_inicial)) < 3).all(axis=1)]\n",
        "#np.abs(stats.zscore(df_entrenamiento_inicial)) > 3\n"
      ]
    },
    {
      "cell_type": "markdown",
      "metadata": {
        "id": "zjaTnfxkyvo8"
      },
      "source": [
        "# Tratamiento de los datos\n",
        "\n",
        "**TODO**\n",
        "* Determinar método para eliminar columnas con mas de un X % de NaNs.\n",
        "* Pasar cols de fechas a datetimes\n",
        "* Eliminar col created_on pues es igual a start_date"
      ]
    },
    {
      "cell_type": "code",
      "execution_count": 71,
      "metadata": {},
      "outputs": [
        {
          "data": {
            "text/html": [
              "<div>\n",
              "<style scoped>\n",
              "    .dataframe tbody tr th:only-of-type {\n",
              "        vertical-align: middle;\n",
              "    }\n",
              "\n",
              "    .dataframe tbody tr th {\n",
              "        vertical-align: top;\n",
              "    }\n",
              "\n",
              "    .dataframe thead th {\n",
              "        text-align: right;\n",
              "    }\n",
              "</style>\n",
              "<table border=\"1\" class=\"dataframe\">\n",
              "  <thead>\n",
              "    <tr style=\"text-align: right;\">\n",
              "      <th></th>\n",
              "      <th>lat</th>\n",
              "      <th>lon</th>\n",
              "      <th>l6</th>\n",
              "      <th>rooms</th>\n",
              "      <th>bedrooms</th>\n",
              "      <th>bathrooms</th>\n",
              "      <th>surface_total</th>\n",
              "      <th>surface_covered</th>\n",
              "      <th>price</th>\n",
              "    </tr>\n",
              "  </thead>\n",
              "  <tbody>\n",
              "    <tr>\n",
              "      <th>count</th>\n",
              "      <td>309275.000000</td>\n",
              "      <td>309250.000000</td>\n",
              "      <td>0.0</td>\n",
              "      <td>310881.000000</td>\n",
              "      <td>271479.000000</td>\n",
              "      <td>311829.000000</td>\n",
              "      <td>174747.000000</td>\n",
              "      <td>1.828230e+05</td>\n",
              "      <td>3.344620e+05</td>\n",
              "    </tr>\n",
              "    <tr>\n",
              "      <th>mean</th>\n",
              "      <td>-34.636291</td>\n",
              "      <td>-59.035227</td>\n",
              "      <td>NaN</td>\n",
              "      <td>2.577990</td>\n",
              "      <td>1.764881</td>\n",
              "      <td>1.401262</td>\n",
              "      <td>111.522183</td>\n",
              "      <td>1.506312e+02</td>\n",
              "      <td>1.778319e+05</td>\n",
              "    </tr>\n",
              "    <tr>\n",
              "      <th>std</th>\n",
              "      <td>1.716539</td>\n",
              "      <td>1.978469</td>\n",
              "      <td>NaN</td>\n",
              "      <td>1.258869</td>\n",
              "      <td>1.268859</td>\n",
              "      <td>0.726301</td>\n",
              "      <td>1365.602158</td>\n",
              "      <td>2.601612e+04</td>\n",
              "      <td>3.324364e+05</td>\n",
              "    </tr>\n",
              "    <tr>\n",
              "      <th>min</th>\n",
              "      <td>-54.831793</td>\n",
              "      <td>-111.717740</td>\n",
              "      <td>NaN</td>\n",
              "      <td>1.000000</td>\n",
              "      <td>-1.000000</td>\n",
              "      <td>1.000000</td>\n",
              "      <td>10.000000</td>\n",
              "      <td>-2.000000e+00</td>\n",
              "      <td>0.000000e+00</td>\n",
              "    </tr>\n",
              "    <tr>\n",
              "      <th>25%</th>\n",
              "      <td>-34.658114</td>\n",
              "      <td>-58.576553</td>\n",
              "      <td>NaN</td>\n",
              "      <td>2.000000</td>\n",
              "      <td>1.000000</td>\n",
              "      <td>1.000000</td>\n",
              "      <td>45.000000</td>\n",
              "      <td>4.000000e+01</td>\n",
              "      <td>7.500000e+04</td>\n",
              "    </tr>\n",
              "    <tr>\n",
              "      <th>50%</th>\n",
              "      <td>-34.597931</td>\n",
              "      <td>-58.454216</td>\n",
              "      <td>NaN</td>\n",
              "      <td>2.000000</td>\n",
              "      <td>2.000000</td>\n",
              "      <td>1.000000</td>\n",
              "      <td>62.000000</td>\n",
              "      <td>5.500000e+01</td>\n",
              "      <td>1.155000e+05</td>\n",
              "    </tr>\n",
              "    <tr>\n",
              "      <th>75%</th>\n",
              "      <td>-34.547304</td>\n",
              "      <td>-58.398826</td>\n",
              "      <td>NaN</td>\n",
              "      <td>3.000000</td>\n",
              "      <td>2.000000</td>\n",
              "      <td>2.000000</td>\n",
              "      <td>95.000000</td>\n",
              "      <td>8.000000e+01</td>\n",
              "      <td>1.880000e+05</td>\n",
              "    </tr>\n",
              "    <tr>\n",
              "      <th>max</th>\n",
              "      <td>44.405990</td>\n",
              "      <td>-2.539603</td>\n",
              "      <td>NaN</td>\n",
              "      <td>35.000000</td>\n",
              "      <td>153.000000</td>\n",
              "      <td>19.000000</td>\n",
              "      <td>194273.000000</td>\n",
              "      <td>1.111111e+07</td>\n",
              "      <td>4.772660e+07</td>\n",
              "    </tr>\n",
              "  </tbody>\n",
              "</table>\n",
              "</div>"
            ],
            "text/plain": [
              "                 lat            lon   l6          rooms       bedrooms  \\\n",
              "count  309275.000000  309250.000000  0.0  310881.000000  271479.000000   \n",
              "mean      -34.636291     -59.035227  NaN       2.577990       1.764881   \n",
              "std         1.716539       1.978469  NaN       1.258869       1.268859   \n",
              "min       -54.831793    -111.717740  NaN       1.000000      -1.000000   \n",
              "25%       -34.658114     -58.576553  NaN       2.000000       1.000000   \n",
              "50%       -34.597931     -58.454216  NaN       2.000000       2.000000   \n",
              "75%       -34.547304     -58.398826  NaN       3.000000       2.000000   \n",
              "max        44.405990      -2.539603  NaN      35.000000     153.000000   \n",
              "\n",
              "           bathrooms  surface_total  surface_covered         price  \n",
              "count  311829.000000  174747.000000     1.828230e+05  3.344620e+05  \n",
              "mean        1.401262     111.522183     1.506312e+02  1.778319e+05  \n",
              "std         0.726301    1365.602158     2.601612e+04  3.324364e+05  \n",
              "min         1.000000      10.000000    -2.000000e+00  0.000000e+00  \n",
              "25%         1.000000      45.000000     4.000000e+01  7.500000e+04  \n",
              "50%         1.000000      62.000000     5.500000e+01  1.155000e+05  \n",
              "75%         2.000000      95.000000     8.000000e+01  1.880000e+05  \n",
              "max        19.000000  194273.000000     1.111111e+07  4.772660e+07  "
            ]
          },
          "execution_count": 71,
          "metadata": {},
          "output_type": "execute_result"
        }
      ],
      "source": [
        "df_entrenamiento_inicial.describe()\n"
      ]
    },
    {
      "cell_type": "markdown",
      "metadata": {},
      "source": [
        "## Estandarización y Normalización de Datos númericos\n"
      ]
    },
    {
      "cell_type": "code",
      "execution_count": 72,
      "metadata": {},
      "outputs": [
        {
          "data": {
            "text/plain": [
              "<AxesSubplot:>"
            ]
          },
          "execution_count": 72,
          "metadata": {},
          "output_type": "execute_result"
        },
        {
          "data": {
            "image/png": "[encoded data removed]",
            "text/plain": [
              "<Figure size 432x288 with 1 Axes>"
            ]
          },
          "metadata": {
            "needs_background": "light"
          },
          "output_type": "display_data"
        }
      ],
      "source": [
        "#df_entrenamiento_inicial.lat.hist(bins=50)\n",
        "\n",
        "dfe_estandarizado = df_entrenamiento_inicial.select_dtypes(\n",
        "    include=['float64', 'int64', 'uint8'])\n",
        "\n",
        "# estandarización min-max\n",
        "dfe_estandarizado = (dfe_estandarizado -\n",
        "                     dfe_estandarizado.min()) / (dfe_estandarizado.max() - dfe_estandarizado.min())\n",
        "\n",
        "dfe_transformado = np.sqrt(dfe_estandarizado)\n",
        "\n",
        "#dfe_estandarizado = dfe_estandarizado\n",
        "dfe_transformado.lat.hist(bins=50)\n"
      ]
    },
    {
      "cell_type": "code",
      "execution_count": 75,
      "metadata": {},
      "outputs": [
        {
          "data": {
            "text/plain": [
              "Index(['lat', 'lon', 'l6', 'rooms', 'bedrooms', 'bathrooms', 'surface_total',\n",
              "       'surface_covered', 'price'],\n",
              "      dtype='object')"
            ]
          },
          "execution_count": 75,
          "metadata": {},
          "output_type": "execute_result"
        }
      ],
      "source": [
        "#df_entrenamiento_inicial.lat.describe()\n",
        "dfe_transformado.columns\n"
      ]
    },
    {
      "cell_type": "code",
      "execution_count": 121,
      "metadata": {},
      "outputs": [
        {
          "data": {
            "text/plain": [
              "count    894233.000000\n",
              "mean          0.195874\n",
              "std           0.029059\n",
              "min           0.000000\n",
              "25%           0.192564\n",
              "50%           0.193811\n",
              "75%           0.195507\n",
              "max           1.000000\n",
              "Name: lat, dtype: float64"
            ]
          },
          "execution_count": 121,
          "metadata": {},
          "output_type": "execute_result"
        }
      ],
      "source": [
        "dfe_estandarizado.lat.describe()\n"
      ]
    },
    {
      "cell_type": "markdown",
      "metadata": {},
      "source": [
        "## Eliminación de columnas con baja varianza\n"
      ]
    },
    {
      "cell_type": "code",
      "execution_count": 74,
      "metadata": {},
      "outputs": [
        {
          "name": "stdout",
          "output_type": "stream",
          "text": [
            "['lon', 'surface_total', 'lat', 'surface_covered', 'bedrooms', 'price', 'rooms', 'bathrooms']\n"
          ]
        }
      ],
      "source": [
        "df2 = dfe_transformado.select_dtypes(\n",
        "    include=['float64', 'int64', 'uint8'])\n",
        "\n",
        "varianzas_cols = {}\n",
        "for c in df2.columns:\n",
        "    varianzas_cols[c] = df2[c].var()\n",
        "\n",
        "varianzas_ordenadas = dict(sorted(varianzas_cols.items(\n",
        "), key=lambda item: item[1]), sort_keys=True, indent=4)\n",
        "columnas_con_baja_varianza = []\n",
        "for col, varianza in varianzas_ordenadas.items():\n",
        "  if varianza < 1:\n",
        "    columnas_con_baja_varianza.append(col)\n",
        "\n",
        "print(columnas_con_baja_varianza)\n"
      ]
    },
    {
      "cell_type": "code",
      "execution_count": 127,
      "metadata": {},
      "outputs": [],
      "source": [
        "columnas_con_baja_varianza = []\n"
      ]
    },
    {
      "cell_type": "markdown",
      "metadata": {
        "id": "i2jRJmQ-tD4Z"
      },
      "source": [
        "# Modelización"
      ]
    },
    {
      "cell_type": "code",
      "execution_count": 131,
      "metadata": {},
      "outputs": [
        {
          "data": {
            "text/plain": [
              "['description',\n",
              " 'currency',\n",
              " 'l1',\n",
              " 'lon',\n",
              " 'operation_type',\n",
              " 'created_on',\n",
              " 'bedrooms',\n",
              " 'l2',\n",
              " 'end_date',\n",
              " 'lat',\n",
              " 'id',\n",
              " 'l3',\n",
              " 'price',\n",
              " 'property_type',\n",
              " 'ad_type',\n",
              " 'rooms',\n",
              " 'title',\n",
              " 'bathrooms',\n",
              " 'start_date']"
            ]
          },
          "execution_count": 131,
          "metadata": {},
          "output_type": "execute_result"
        }
      ],
      "source": [
        "columnas_a_modelar = set(df_entrenamiento_inicial.columns) - \\\n",
        "    set(columnas_con_baja_varianza) - \\\n",
        "    set(columnas_con_nans_a_descartar)\n",
        "columnas_a_modelar = list(columnas_a_modelar)\n",
        "columnas_a_modelar\n"
      ]
    },
    {
      "cell_type": "code",
      "execution_count": 76,
      "metadata": {},
      "outputs": [],
      "source": [
        "df_entrenamiento_a_modelar = dfe_transformado\n"
      ]
    },
    {
      "cell_type": "code",
      "execution_count": 77,
      "metadata": {
        "id": "yg8qNxuNrzQp"
      },
      "outputs": [],
      "source": [
        "df_entrenamiento_a_modelar = df_entrenamiento_inicial.select_dtypes(include=[\n",
        "                                                                    'float64', 'int64'])\n",
        "df_entrenamiento_a_modelar.fillna(0, inplace=True, downcast=\"infer\")\n",
        "\n",
        "# Filtro de columnas para el df de pruebas\n",
        "df_prueba = df_prueba_inicial[df_entrenamiento_a_modelar.columns].copy(\n",
        ")\n"
      ]
    },
    {
      "cell_type": "code",
      "execution_count": null,
      "metadata": {
        "id": "PoAhfAjlr-rp"
      },
      "outputs": [],
      "source": [
        "if False:\n",
        "    X = df_entrenamiento_a_modelar[df_entrenamiento_a_modelar.columns.drop('price')]\n",
        "    y = df_entrenamiento_a_modelar['price']\n",
        "\n",
        "    for n_estimators in [100, 500, 1000]:\n",
        "        for max_depth in [3, 7, 11]:\n",
        "\n",
        "            ## Tienen que usar RandomForestRegressor si o si o si. Pueden cambiar los parámetros\n",
        "            reg = sk.ensemble.RandomForestRegressor(n_estimators=n_estimators, max_depth=max_depth, random_state=42, n_jobs=-1)\n",
        "\n",
        "            ## Validación cruzada en 5 partes (lo van a ver en AA), -RMSE. No tocar\n",
        "            scores = sk.model_selection.cross_val_score(reg, X, y, cv=10, scoring='neg_root_mean_squared_error')\n",
        "\n",
        "            ## Imprimimos scores. Cuando más bajo mejor\n",
        "            print(f\"n_estimators={n_estimators}, max_depth={max_depth} --> {-scores.mean():.3f} +/- {scores.std():.3f}\")\n"
      ]
    },
    {
      "cell_type": "code",
      "execution_count": 78,
      "metadata": {},
      "outputs": [],
      "source": [
        "X = df_entrenamiento_a_modelar[df_entrenamiento_a_modelar.columns.drop('price')]\n",
        "y = df_entrenamiento_a_modelar['price']\n"
      ]
    },
    {
      "cell_type": "code",
      "execution_count": 79,
      "metadata": {},
      "outputs": [
        {
          "name": "stdout",
          "output_type": "stream",
          "text": [
            "269925.840 +/- 67086.532\n"
          ]
        }
      ],
      "source": [
        "# version todo por 2 pesos\n",
        "## Tienen que usar RandomForestRegressor si o si o si. Pueden cambiar los parámetros\n",
        "reg = sk.ensemble.RandomForestRegressor(\n",
        "    n_estimators=100, max_depth=7, random_state=42, n_jobs=-1)\n",
        "\n",
        "## Validación cruzada en 5 partes (lo van a ver en AA), -RMSE. No tocar\n",
        "scores = sk.model_selection.cross_val_score(\n",
        "    reg, X, y, cv=10, scoring='neg_root_mean_squared_error')\n",
        "\n",
        "## Imprimimos scores. Cuando más bajo mejor\n",
        "print(f\"{-scores.mean():.3f} +/- {scores.std():.3f}\")\n"
      ]
    },
    {
      "cell_type": "code",
      "execution_count": 80,
      "metadata": {
        "id": "01697gx81F5Z"
      },
      "outputs": [],
      "source": [
        "#df_pred = pd.read_csv(archivo_prueba, index_col=\"id\")\n",
        "df_prueba.fillna(0, inplace=True)"
      ]
    },
    {
      "cell_type": "code",
      "execution_count": 81,
      "metadata": {
        "id": "xzAwUNRA1Fzb"
      },
      "outputs": [],
      "source": [
        "X_pred = df_prueba[X.columns]\n"
      ]
    },
    {
      "cell_type": "code",
      "execution_count": 82,
      "metadata": {
        "id": "81dOh5WvAPMa"
      },
      "outputs": [],
      "source": [
        "# los mejores hiperparámetros encontrados antes\n",
        "n_estimators = 100\n",
        "max_depth = 7\n",
        "\n",
        "# entrenamiento\n",
        "reg = sk.ensemble.RandomForestRegressor(n_estimators=n_estimators, max_depth=max_depth, random_state=42, n_jobs=-1)\n",
        "reg.fit(X, y)\n",
        "\n",
        "# predicción\n",
        "df_prueba[\"price\"] = reg.predict(X_pred)\n"
      ]
    },
    {
      "cell_type": "code",
      "execution_count": 83,
      "metadata": {
        "id": "mU9iV6cuBwKB"
      },
      "outputs": [],
      "source": [
        "# grabo la solución\n",
        "df_prueba.index.name = 'id'\n",
        "df_prueba[\"id\"] = df_prueba_inicial.id\n",
        "df_prueba[[\"id\", \"price\"]].to_csv(archivo_salida, index=False)\n"
      ]
    },
    {
      "cell_type": "code",
      "execution_count": 84,
      "metadata": {},
      "outputs": [
        {
          "name": "stdout",
          "output_type": "stream",
          "text": [
            "100%|██████████████████████████████████████| 23.8k/23.8k [00:02<00:00, 8.96kB/s]\n",
            "Successfully submitted to FCEN MD 2022 - Predicción precio de propiedades"
          ]
        }
      ],
      "source": [
        "if ESTA_KAGGLE:\n",
        "    ! kaggle competitions submit -c fcen-md-2022-prediccion-precio-de-propiedades -f $archivo_salida -m \"Prueba enviar predicción desde Notebook\"\n"
      ]
    },
    {
      "cell_type": "code",
      "execution_count": 7,
      "metadata": {},
      "outputs": [
        {
          "data": {
            "text/plain": [
              "{'col1': {0: 0, 1: 1, 2: 2, 3: 3}, 'col2': {0: nan, 1: nan, 2: 2.0, 3: 3.0}}"
            ]
          },
          "execution_count": 7,
          "metadata": {},
          "output_type": "execute_result"
        }
      ],
      "source": [
        "d = {'col1': [0, 1, 2, 3], 'col2': pd.Series([2, 3], index=[2, 3])}\n",
        "df = pd.DataFrame(data=d, index=[0, 1, 2, 3])\n",
        "df.to_dict()"
      ]
    }
  ],
  "metadata": {
    "colab": {
      "collapsed_sections": [],
      "name": "Copia de TP individual.ipynb",
      "provenance": []
    },
    "kernelspec": {
      "display_name": "Python 3",
      "name": "python3"
    },
    "language_info": {
      "codemirror_mode": {
        "name": "ipython",
        "version": 3
      },
      "file_extension": ".py",
      "mimetype": "text/x-python",
      "name": "python",
      "nbconvert_exporter": "python",
      "pygments_lexer": "ipython3",
      "version": "3.8.10"
    }
  },
  "nbformat": 4,
  "nbformat_minor": 0
}
