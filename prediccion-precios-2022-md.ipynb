{
  "cells": [
    {
      "cell_type": "markdown",
      "metadata": {},
      "source": [
        "# Predicción Precios Argentina - MD 2022\n",
        "\n",
        "Notebook para la competencias de [Kaggle](https://www.kaggle.com/competitions/fcen-md-2022-prediccion-precio-de-propiedades/leaderboard) de la materia MD de la maestria de DM de la UBA.\n",
        "\n",
        "Autor: Tomás Delvechio"
      ]
    },
    {
      "cell_type": "markdown",
      "metadata": {},
      "source": [
        "# Configuración de la notebook\n",
        "\n",
        "A continuación se definen configuraciones que afectaran el resto del notebook."
      ]
    },
    {
      "cell_type": "code",
      "execution_count": 41,
      "metadata": {},
      "outputs": [],
      "source": [
        "import sys\n",
        "import os.path\n",
        "from shutil import which\n"
      ]
    },
    {
      "cell_type": "code",
      "execution_count": 52,
      "metadata": {},
      "outputs": [],
      "source": [
        "# No tocar\n",
        "EJECUTA_COLAB = 'google.colab' in sys.modules\n",
        "ESTA_KAGGLE = not EJECUTA_COLAB \\\n",
        "    and which(\"kaggle\") is not None \\\n",
        "    and os.path.exists(os.path.join(os.getenv(\"HOME\"), \".kaggle/kaggle.json\")) \n",
        "ENTORNO_DESARROLLO = \"Desarrollo\"\n",
        "ENTORNO_PRUEBA = \"Prueba\"\n",
        "ENTORNO_PRODUCCION = \"Produccion\""
      ]
    },
    {
      "cell_type": "markdown",
      "metadata": {},
      "source": [
        "## Configuraciones editables\n",
        "\n",
        "Estas variables pueden ser editadas para cambiar comportamientos del notebook"
      ]
    },
    {
      "cell_type": "code",
      "execution_count": 3,
      "metadata": {},
      "outputs": [],
      "source": [
        "# Editar para cambiar comportamiento\n",
        "ENTORNO = ENTORNO_PRUEBA\n"
      ]
    },
    {
      "cell_type": "markdown",
      "metadata": {},
      "source": [
        "# Datasets\n",
        "\n",
        "Se listan todos los datasets a considerar a continuación en un dict"
      ]
    },
    {
      "cell_type": "code",
      "execution_count": 4,
      "metadata": {},
      "outputs": [],
      "source": [
        "datasets = {\n",
        "\n",
        "    \"input\": {\n",
        "\n",
        "        # Dataset de entrenamiento\n",
        "        \"entrenamiento\": {\n",
        "            \"nombre\": \"properati_ar\",\n",
        "            \"archivo\": 'ar_properties.csv',\n",
        "            \"archivo_comprimido\": \"ar_properties.csv.gz\",\n",
        "            \"comprimido\": \"gz\",\n",
        "            \"url\": \"https://storage.googleapis.com/properati-data-public/ar_properties.csv.gz\",\n",
        "        },\n",
        "\n",
        "        # Dataset de prueba\n",
        "        \"prueba\": {\n",
        "            \"nombre\": \"testing\",\n",
        "            \"archivo\": \"a_predecir.csv\",\n",
        "            \"archivo_comprimido\": \"a_predecir.csv.zip\",\n",
        "            \"comprimido\": \"zip\",\n",
        "            \"url\": \"http://tomasdelvechio.github.io/subjects/dm/a_predecir.csv.zip\",\n",
        "        },\n",
        "\n",
        "    },\n",
        "\n",
        "    \"output\": {\n",
        "\n",
        "        # Dataset para subir a Kaggle\n",
        "        \"solucion\": {\n",
        "            \"nombre\": \"soluciones\",\n",
        "            \"archivo\": \"solucion.csv\",\n",
        "            \"comprimido\": False,\n",
        "            \"url\": None,\n",
        "        },\n",
        "\n",
        "    },\n",
        "\n",
        "}"
      ]
    },
    {
      "cell_type": "markdown",
      "metadata": {},
      "source": [
        "## Descarga de los datasets\n",
        "\n",
        "Controla si los datasets estan o no descargado, en caso de no estarlo, los descarga y descomprime"
      ]
    },
    {
      "cell_type": "code",
      "execution_count": 5,
      "metadata": {
        "id": "A7BBykw5oQNl"
      },
      "outputs": [
        {
          "name": "stdout",
          "output_type": "stream",
          "text": [
            "Procesando ds para entrenamiento: properati_ar\n",
            "Dataset properati_ar descargado... No se descarga...\n",
            "Procesando ds para prueba: testing\n",
            "Dataset testing descargado... No se descarga...\n"
          ]
        }
      ],
      "source": [
        "if EJECUTA_COLAB:\n",
        "    DOWNLOAD_PATH = '/content'\n",
        "else:\n",
        "    DOWNLOAD_PATH = '.data/'\n",
        "    # tratamos de crear el dir por si es la 1era vez que ejecuta\n",
        "    ! mkdir -p $DOWNLOAD_PATH\n",
        "\n",
        "for tipo, ds in datasets[\"input\"].items():\n",
        "    print(f\"Procesando ds para {tipo}: {ds['nombre']}\")\n",
        "\n",
        "    fulllpath = os.path.join(\n",
        "        DOWNLOAD_PATH, f\"{ds['archivo_comprimido']}\")\n",
        "    fulllpath_raw = os.path.join(\n",
        "        DOWNLOAD_PATH, ds[\"archivo\"])\n",
        "\n",
        "    if os.path.exists(fulllpath_raw):\n",
        "        # skip download\n",
        "        print(f\"Dataset {ds['nombre']} descargado... No se descarga...\")\n",
        "    else:\n",
        "        url = ds[\"url\"]\n",
        "        print(f\"Descargando {ds['nombre']} desde {url}\")\n",
        "        ! wget -N -O $fulllpath -q $url\n",
        "        if ds[\"comprimido\"] == \"gz\":\n",
        "            ! gzip -d -f $fulllpath\n",
        "        elif ds[\"comprimido\"] == \"zip\":\n",
        "            ! unzip -n $fulllpath -d \".data/\"\n",
        "            ! rm $fulllpath\n",
        "\n",
        "archivo_entrenamiento = os.path.join(\n",
        "    DOWNLOAD_PATH, datasets[\"input\"][\"entrenamiento\"][\"archivo\"])\n",
        "archivo_prueba = os.path.join(\n",
        "    DOWNLOAD_PATH, datasets[\"input\"][\"prueba\"][\"archivo\"])\n"
      ]
    },
    {
      "cell_type": "markdown",
      "metadata": {},
      "source": [
        "Preparamos el archivo de salida"
      ]
    },
    {
      "cell_type": "code",
      "execution_count": 6,
      "metadata": {},
      "outputs": [],
      "source": [
        "archivo_salida = os.path.join(\n",
        "    DOWNLOAD_PATH, datasets[\"output\"][\"solucion\"][\"archivo\"])\n"
      ]
    },
    {
      "cell_type": "markdown",
      "metadata": {},
      "source": [
        "## Importación de librerias"
      ]
    },
    {
      "cell_type": "code",
      "execution_count": 7,
      "metadata": {
        "id": "jw8ogMDOpvKP"
      },
      "outputs": [],
      "source": [
        "import pandas as pd\n",
        "import sklearn as sk\n",
        "import matplotlib\n",
        "import matplotlib.pyplot as plt\n",
        "import numpy as np\n",
        "from sklearn import model_selection\n",
        "from sklearn import ensemble\n",
        "from sklearn import metrics"
      ]
    },
    {
      "cell_type": "markdown",
      "metadata": {
        "id": "20D-m6GPyefp"
      },
      "source": [
        "## Lectura de datos\n",
        "\n",
        "Se levantan los df de prueba y entrenamiento. No se levantan con el índice `index_col=\"id\"` dado que la [página de properati](https://www.properati.com.ar/data) aclara que podria no ser único."
      ]
    },
    {
      "cell_type": "code",
      "execution_count": 22,
      "metadata": {
        "id": "CtV0wOGsqJLC"
      },
      "outputs": [],
      "source": [
        "df_entrenamiento_inicial = pd.read_csv(archivo_entrenamiento)#, index_col=\"id\")\n",
        "df_prueba_inicial = pd.read_csv(archivo_prueba)#, index_col=\"id\")\n",
        "\n",
        "if (ENTORNO == ENTORNO_DESARROLLO):\n",
        "    # filtro para pruebas rápidas\n",
        "    df_entrenamiento_inicial = df_entrenamiento_inicial.loc[(df_entrenamiento_inicial.l2 == \"Córdoba\") & (\n",
        "        df_entrenamiento_inicial.operation_type == 'Venta') & (df_entrenamiento_inicial.property_type == 'Casa')]\n",
        "    df_entrenamiento_inicial.shape\n"
      ]
    },
    {
      "cell_type": "code",
      "execution_count": 9,
      "metadata": {},
      "outputs": [],
      "source": [
        "assert df_entrenamiento_inicial.shape[1] == 25, \"El ds de entrenamiento no tiene 25 atributos. Revisar.\"\n",
        "assert df_prueba_inicial.shape[1] == 28, \"El ds de prueba no tiene 28 atributos. Revisar.\"\n"
      ]
    },
    {
      "cell_type": "markdown",
      "metadata": {
        "id": "byV0dQi-yiEd"
      },
      "source": [
        "# Análisis del conjunto de datos\n",
        "\n",
        "Se analizan ambos datasets para conocerlos y caracterizarlos. Primero se hace lo propio con el DF de entrenamiento."
      ]
    },
    {
      "cell_type": "code",
      "execution_count": 10,
      "metadata": {},
      "outputs": [
        {
          "data": {
            "text/html": [
              "<div>\n",
              "<style scoped>\n",
              "    .dataframe tbody tr th:only-of-type {\n",
              "        vertical-align: middle;\n",
              "    }\n",
              "\n",
              "    .dataframe tbody tr th {\n",
              "        vertical-align: top;\n",
              "    }\n",
              "\n",
              "    .dataframe thead th {\n",
              "        text-align: right;\n",
              "    }\n",
              "</style>\n",
              "<table border=\"1\" class=\"dataframe\">\n",
              "  <thead>\n",
              "    <tr style=\"text-align: right;\">\n",
              "      <th></th>\n",
              "      <th>id</th>\n",
              "      <th>ad_type</th>\n",
              "      <th>start_date</th>\n",
              "      <th>end_date</th>\n",
              "      <th>created_on</th>\n",
              "      <th>lat</th>\n",
              "      <th>lon</th>\n",
              "      <th>l1</th>\n",
              "      <th>l2</th>\n",
              "      <th>l3</th>\n",
              "      <th>...</th>\n",
              "      <th>bathrooms</th>\n",
              "      <th>surface_total</th>\n",
              "      <th>surface_covered</th>\n",
              "      <th>price</th>\n",
              "      <th>currency</th>\n",
              "      <th>price_period</th>\n",
              "      <th>title</th>\n",
              "      <th>description</th>\n",
              "      <th>property_type</th>\n",
              "      <th>operation_type</th>\n",
              "    </tr>\n",
              "  </thead>\n",
              "  <tbody>\n",
              "    <tr>\n",
              "      <th>0</th>\n",
              "      <td>DyVXfkpKygVBKuUk5olH+A==</td>\n",
              "      <td>Propiedad</td>\n",
              "      <td>2020-08-22</td>\n",
              "      <td>2020-09-03</td>\n",
              "      <td>2020-08-22</td>\n",
              "      <td>-34.407468</td>\n",
              "      <td>-58.957367</td>\n",
              "      <td>Argentina</td>\n",
              "      <td>Bs.As. G.B.A. Zona Norte</td>\n",
              "      <td>Pilar</td>\n",
              "      <td>...</td>\n",
              "      <td>NaN</td>\n",
              "      <td>133139.0</td>\n",
              "      <td>NaN</td>\n",
              "      <td>NaN</td>\n",
              "      <td>NaN</td>\n",
              "      <td>Mensual</td>\n",
              "      <td>VENTA - Lote Industrial 130.000m2 - Parque Ind...</td>\n",
              "      <td>Lote (Nro.50) mide 133.139 m2\\n&lt;br&gt;Valor: U$S ...</td>\n",
              "      <td>Lote</td>\n",
              "      <td>Venta</td>\n",
              "    </tr>\n",
              "    <tr>\n",
              "      <th>1</th>\n",
              "      <td>9naojilaMecJN4jlQiTkGg==</td>\n",
              "      <td>Propiedad</td>\n",
              "      <td>2020-08-22</td>\n",
              "      <td>2020-09-04</td>\n",
              "      <td>2020-08-22</td>\n",
              "      <td>-37.996039</td>\n",
              "      <td>-57.542509</td>\n",
              "      <td>Argentina</td>\n",
              "      <td>Buenos Aires Costa Atlántica</td>\n",
              "      <td>Mar del Plata</td>\n",
              "      <td>...</td>\n",
              "      <td>NaN</td>\n",
              "      <td>687.0</td>\n",
              "      <td>687.0</td>\n",
              "      <td>NaN</td>\n",
              "      <td>NaN</td>\n",
              "      <td>Mensual</td>\n",
              "      <td>Casa - Santa Cecilia</td>\n",
              "      <td>Conjunto edilicio de casa y departamentos en b...</td>\n",
              "      <td>Otro</td>\n",
              "      <td>Venta</td>\n",
              "    </tr>\n",
              "    <tr>\n",
              "      <th>2</th>\n",
              "      <td>tlCPRJPjoDEUzuuCelemAQ==</td>\n",
              "      <td>Propiedad</td>\n",
              "      <td>2020-08-22</td>\n",
              "      <td>2020-08-31</td>\n",
              "      <td>2020-08-22</td>\n",
              "      <td>-31.380187</td>\n",
              "      <td>-58.009182</td>\n",
              "      <td>Argentina</td>\n",
              "      <td>Entre Ríos</td>\n",
              "      <td>Concordia</td>\n",
              "      <td>...</td>\n",
              "      <td>1.0</td>\n",
              "      <td>80.0</td>\n",
              "      <td>80.0</td>\n",
              "      <td>NaN</td>\n",
              "      <td>NaN</td>\n",
              "      <td>Mensual</td>\n",
              "      <td>Casa - Concordia</td>\n",
              "      <td>Casa de un dormitorio, cocina, baño, living co...</td>\n",
              "      <td>Casa</td>\n",
              "      <td>Alquiler</td>\n",
              "    </tr>\n",
              "    <tr>\n",
              "      <th>3</th>\n",
              "      <td>Zw3b91glQUO3HNrM5fPYlQ==</td>\n",
              "      <td>Propiedad</td>\n",
              "      <td>2020-08-22</td>\n",
              "      <td>2020-09-04</td>\n",
              "      <td>2020-08-22</td>\n",
              "      <td>-27.494106</td>\n",
              "      <td>-55.123455</td>\n",
              "      <td>Argentina</td>\n",
              "      <td>Misiones</td>\n",
              "      <td>Oberá</td>\n",
              "      <td>...</td>\n",
              "      <td>1.0</td>\n",
              "      <td>NaN</td>\n",
              "      <td>NaN</td>\n",
              "      <td>NaN</td>\n",
              "      <td>NaN</td>\n",
              "      <td>Mensual</td>\n",
              "      <td>Terreno - Obera</td>\n",
              "      <td>IMPORTANTE PROPIEDAD EN VENTA EN OBERA MISIONE...</td>\n",
              "      <td>Lote</td>\n",
              "      <td>Venta</td>\n",
              "    </tr>\n",
              "    <tr>\n",
              "      <th>4</th>\n",
              "      <td>bsU81gm9JEgtZCbTYgvykg==</td>\n",
              "      <td>Propiedad</td>\n",
              "      <td>2020-08-22</td>\n",
              "      <td>2020-09-04</td>\n",
              "      <td>2020-08-22</td>\n",
              "      <td>-32.948856</td>\n",
              "      <td>-60.630464</td>\n",
              "      <td>Argentina</td>\n",
              "      <td>Santa Fe</td>\n",
              "      <td>Rosario</td>\n",
              "      <td>...</td>\n",
              "      <td>1.0</td>\n",
              "      <td>76.0</td>\n",
              "      <td>66.0</td>\n",
              "      <td>NaN</td>\n",
              "      <td>NaN</td>\n",
              "      <td>Mensual</td>\n",
              "      <td>Departamento - Rosario</td>\n",
              "      <td>PORTAL DE LOS MARINOS&lt;br&gt;Es un complejo de viv...</td>\n",
              "      <td>Departamento</td>\n",
              "      <td>Venta</td>\n",
              "    </tr>\n",
              "  </tbody>\n",
              "</table>\n",
              "<p>5 rows × 25 columns</p>\n",
              "</div>"
            ],
            "text/plain": [
              "                         id    ad_type  start_date    end_date  created_on  \\\n",
              "0  DyVXfkpKygVBKuUk5olH+A==  Propiedad  2020-08-22  2020-09-03  2020-08-22   \n",
              "1  9naojilaMecJN4jlQiTkGg==  Propiedad  2020-08-22  2020-09-04  2020-08-22   \n",
              "2  tlCPRJPjoDEUzuuCelemAQ==  Propiedad  2020-08-22  2020-08-31  2020-08-22   \n",
              "3  Zw3b91glQUO3HNrM5fPYlQ==  Propiedad  2020-08-22  2020-09-04  2020-08-22   \n",
              "4  bsU81gm9JEgtZCbTYgvykg==  Propiedad  2020-08-22  2020-09-04  2020-08-22   \n",
              "\n",
              "         lat        lon         l1                            l2  \\\n",
              "0 -34.407468 -58.957367  Argentina      Bs.As. G.B.A. Zona Norte   \n",
              "1 -37.996039 -57.542509  Argentina  Buenos Aires Costa Atlántica   \n",
              "2 -31.380187 -58.009182  Argentina                    Entre Ríos   \n",
              "3 -27.494106 -55.123455  Argentina                      Misiones   \n",
              "4 -32.948856 -60.630464  Argentina                      Santa Fe   \n",
              "\n",
              "              l3  ... bathrooms surface_total  surface_covered  price  \\\n",
              "0          Pilar  ...       NaN      133139.0              NaN    NaN   \n",
              "1  Mar del Plata  ...       NaN         687.0            687.0    NaN   \n",
              "2      Concordia  ...       1.0          80.0             80.0    NaN   \n",
              "3          Oberá  ...       1.0           NaN              NaN    NaN   \n",
              "4        Rosario  ...       1.0          76.0             66.0    NaN   \n",
              "\n",
              "   currency  price_period                                              title  \\\n",
              "0       NaN       Mensual  VENTA - Lote Industrial 130.000m2 - Parque Ind...   \n",
              "1       NaN       Mensual                               Casa - Santa Cecilia   \n",
              "2       NaN       Mensual                                   Casa - Concordia   \n",
              "3       NaN       Mensual                                    Terreno - Obera   \n",
              "4       NaN       Mensual                             Departamento - Rosario   \n",
              "\n",
              "                                         description  property_type  \\\n",
              "0  Lote (Nro.50) mide 133.139 m2\\n<br>Valor: U$S ...           Lote   \n",
              "1  Conjunto edilicio de casa y departamentos en b...           Otro   \n",
              "2  Casa de un dormitorio, cocina, baño, living co...           Casa   \n",
              "3  IMPORTANTE PROPIEDAD EN VENTA EN OBERA MISIONE...           Lote   \n",
              "4  PORTAL DE LOS MARINOS<br>Es un complejo de viv...   Departamento   \n",
              "\n",
              "  operation_type  \n",
              "0          Venta  \n",
              "1          Venta  \n",
              "2       Alquiler  \n",
              "3          Venta  \n",
              "4          Venta  \n",
              "\n",
              "[5 rows x 25 columns]"
            ]
          },
          "execution_count": 10,
          "metadata": {},
          "output_type": "execute_result"
        }
      ],
      "source": [
        "df_entrenamiento_inicial.head()"
      ]
    },
    {
      "cell_type": "markdown",
      "metadata": {},
      "source": [
        "Se observan 24 columnas con datos de diversa indole.\n",
        "\n",
        "Las columnas son:"
      ]
    },
    {
      "cell_type": "code",
      "execution_count": 23,
      "metadata": {},
      "outputs": [
        {
          "data": {
            "text/plain": [
              "id                  object\n",
              "ad_type             object\n",
              "start_date          object\n",
              "end_date            object\n",
              "created_on          object\n",
              "lat                float64\n",
              "lon                float64\n",
              "l1                  object\n",
              "l2                  object\n",
              "l3                  object\n",
              "l4                  object\n",
              "l5                  object\n",
              "l6                 float64\n",
              "rooms              float64\n",
              "bedrooms           float64\n",
              "bathrooms          float64\n",
              "surface_total      float64\n",
              "surface_covered    float64\n",
              "price              float64\n",
              "currency            object\n",
              "price_period        object\n",
              "title               object\n",
              "description         object\n",
              "property_type       object\n",
              "operation_type      object\n",
              "dtype: object"
            ]
          },
          "execution_count": 23,
          "metadata": {},
          "output_type": "execute_result"
        }
      ],
      "source": [
        "df_entrenamiento_inicial.dtypes"
      ]
    },
    {
      "cell_type": "markdown",
      "metadata": {},
      "source": [
        "En principio hay preeminencia de columnas no numéricas."
      ]
    },
    {
      "cell_type": "code",
      "execution_count": 12,
      "metadata": {},
      "outputs": [
        {
          "data": {
            "text/plain": [
              "object     15\n",
              "float64     9\n",
              "dtype: int64"
            ]
          },
          "execution_count": 12,
          "metadata": {},
          "output_type": "execute_result"
        }
      ],
      "source": [
        "df_entrenamiento_inicial.dtypes.value_counts()"
      ]
    },
    {
      "cell_type": "code",
      "execution_count": 29,
      "metadata": {},
      "outputs": [
        {
          "name": "stdout",
          "output_type": "stream",
          "text": [
            "<class 'pandas.core.frame.DataFrame'>\n",
            "RangeIndex: 1000000 entries, 0 to 999999\n",
            "Data columns (total 25 columns):\n",
            " #   Column           Non-Null Count    Dtype  \n",
            "---  ------           --------------    -----  \n",
            " 0   id               1000000 non-null  object \n",
            " 1   ad_type          1000000 non-null  object \n",
            " 2   start_date       1000000 non-null  object \n",
            " 3   end_date         1000000 non-null  object \n",
            " 4   created_on       1000000 non-null  object \n",
            " 5   lat              894233 non-null   float64\n",
            " 6   lon              894191 non-null   float64\n",
            " 7   l1               1000000 non-null  object \n",
            " 8   l2               1000000 non-null  object \n",
            " 9   l3               965273 non-null   object \n",
            " 10  l4               306162 non-null   object \n",
            " 11  l5               5530 non-null     object \n",
            " 12  l6               0 non-null        float64\n",
            " 13  rooms            714179 non-null   float64\n",
            " 14  bedrooms         649933 non-null   float64\n",
            " 15  bathrooms        765122 non-null   float64\n",
            " 16  surface_total    477831 non-null   float64\n",
            " 17  surface_covered  487756 non-null   float64\n",
            " 18  price            958243 non-null   float64\n",
            " 19  currency         955491 non-null   object \n",
            " 20  price_period     429870 non-null   object \n",
            " 21  title            999999 non-null   object \n",
            " 22  description      999958 non-null   object \n",
            " 23  property_type    1000000 non-null  object \n",
            " 24  operation_type   1000000 non-null  object \n",
            "dtypes: float64(9), object(16)\n",
            "memory usage: 190.7+ MB\n"
          ]
        }
      ],
      "source": [
        "df_entrenamiento_inicial.info()"
      ]
    },
    {
      "cell_type": "markdown",
      "metadata": {},
      "source": [
        "Vamos a describir a continuación cada columna. El Id no se lista pero es la columna 25. No es el index del dataframe.\n",
        "\n",
        "| # | Columna | Descripción |\n",
        "|---|---------|-------------|\n",
        "| 1 | ad_type   | Tipo de publicación o aviso |\n",
        "|---|---------|-------------|\n",
        "| 2 | start_date    | Fecha de alta |\n",
        "| 3 | end_date  | Fecha de baja |\n",
        "| 4 | created_on    | Fecha de alta de la primer versión |\n",
        "|---|---------|-------------|\n",
        "| 5 | lat   | Latitud |\n",
        "| 6 | lon   | Longitud |\n",
        "| 7 | l1    | País |\n",
        "| 8 | l2    | Provincia |\n",
        "| 9 | l3    | Ciudad |\n",
        "| 10 | l4    | Barrio |\n",
        "| 11 | l5    | ??? |\n",
        "| 12 | l6    | ??? |\n",
        "|---|---------|-------------|\n",
        "| 13 | rooms | Cantidad de ambientes |\n",
        "| 14 | bedrooms  | Cantidad de dormitorios |\n",
        "| 15 | bathrooms | Cantidad de baños |\n",
        "| 16 | surface_total | Superficie en m² |\n",
        "| 17 | surface_covered   | Superficie cubierta en m² |\n",
        "| 18 | price | Precio publicado |\n",
        "| 19 | currency  | Moneda del precio |\n",
        "| 20 | price_period  | si el precio es diario, semanal, mensual |\n",
        "| 21 | title | título del anuncio |\n",
        "| 22 | description   | descripcion del anuncio |\n",
        "| 23 | property_type | Si es casa, depto, PH... |\n",
        "| 24 | operation_type    | Si es venta, alquiler... |"
      ]
    },
    {
      "cell_type": "markdown",
      "metadata": {},
      "source": [
        "Agrupamos los diferentes conceptos del dataset por columnas relacionadas:"
      ]
    },
    {
      "cell_type": "code",
      "execution_count": 93,
      "metadata": {},
      "outputs": [],
      "source": [
        "columnas_id = [\"id\", \"ad_type\", ]\n",
        "columnas_fecha = [\"start_date\", \"end_date\", \"created_on\", ]\n",
        "columnas_ubicacion = [\n",
        "    \"lat\",\n",
        "    \"lon\",\n",
        "    \"l1\",\n",
        "    \"l2\",\n",
        "    \"l3\",\n",
        "    \"l4\",\n",
        "    \"l5\",\n",
        "    \"l6\",\n",
        "]\n",
        "columnas_publicacion = [\n",
        "    \"rooms\",\n",
        "    \"bedrooms\",\n",
        "    \"bathrooms\",\n",
        "    \"surface_total\",\n",
        "    \"surface_covered\",\n",
        "    \"price\",\n",
        "    \"currency\",\n",
        "    \"price_period\",\n",
        "    \"title\",\n",
        "    \"description\",\n",
        "    \"property_type\",\n",
        "    \"operation_type\",\n",
        "]\n"
      ]
    },
    {
      "cell_type": "markdown",
      "metadata": {},
      "source": [
        "## Estudio de columnas de ubicación\n",
        "\n",
        "A continuación se estudian los valores relacionados a las columnas de ubicación"
      ]
    },
    {
      "cell_type": "code",
      "execution_count": 28,
      "metadata": {},
      "outputs": [
        {
          "name": "stdout",
          "output_type": "stream",
          "text": [
            "         lat        lon         l1                            l2  \\\n",
            "0 -34.407468 -58.957367  Argentina      Bs.As. G.B.A. Zona Norte   \n",
            "1 -37.996039 -57.542509  Argentina  Buenos Aires Costa Atlántica   \n",
            "2 -31.380187 -58.009182  Argentina                    Entre Ríos   \n",
            "3 -27.494106 -55.123455  Argentina                      Misiones   \n",
            "4 -32.948856 -60.630464  Argentina                      Santa Fe   \n",
            "\n",
            "              l3   l4   l5  l6  \n",
            "0          Pilar  NaN  NaN NaN  \n",
            "1  Mar del Plata  NaN  NaN NaN  \n",
            "2      Concordia  NaN  NaN NaN  \n",
            "3          Oberá  NaN  NaN NaN  \n",
            "4        Rosario  NaN  NaN NaN  \n"
          ]
        },
        {
          "data": {
            "text/html": [
              "<div>\n",
              "<style scoped>\n",
              "    .dataframe tbody tr th:only-of-type {\n",
              "        vertical-align: middle;\n",
              "    }\n",
              "\n",
              "    .dataframe tbody tr th {\n",
              "        vertical-align: top;\n",
              "    }\n",
              "\n",
              "    .dataframe thead th {\n",
              "        text-align: right;\n",
              "    }\n",
              "</style>\n",
              "<table border=\"1\" class=\"dataframe\">\n",
              "  <thead>\n",
              "    <tr style=\"text-align: right;\">\n",
              "      <th></th>\n",
              "      <th>lat</th>\n",
              "      <th>lon</th>\n",
              "      <th>l1</th>\n",
              "      <th>l2</th>\n",
              "      <th>l3</th>\n",
              "      <th>l4</th>\n",
              "      <th>l5</th>\n",
              "      <th>l6</th>\n",
              "    </tr>\n",
              "  </thead>\n",
              "  <tbody>\n",
              "    <tr>\n",
              "      <th>999995</th>\n",
              "      <td>-32.958863</td>\n",
              "      <td>-60.665633</td>\n",
              "      <td>Argentina</td>\n",
              "      <td>Santa Fe</td>\n",
              "      <td>Rosario</td>\n",
              "      <td>NaN</td>\n",
              "      <td>NaN</td>\n",
              "      <td>NaN</td>\n",
              "    </tr>\n",
              "    <tr>\n",
              "      <th>999996</th>\n",
              "      <td>-34.596587</td>\n",
              "      <td>-58.376893</td>\n",
              "      <td>Argentina</td>\n",
              "      <td>Capital Federal</td>\n",
              "      <td>Retiro</td>\n",
              "      <td>NaN</td>\n",
              "      <td>NaN</td>\n",
              "      <td>NaN</td>\n",
              "    </tr>\n",
              "    <tr>\n",
              "      <th>999997</th>\n",
              "      <td>-34.576445</td>\n",
              "      <td>-58.432603</td>\n",
              "      <td>Argentina</td>\n",
              "      <td>Capital Federal</td>\n",
              "      <td>Palermo</td>\n",
              "      <td>NaN</td>\n",
              "      <td>NaN</td>\n",
              "      <td>NaN</td>\n",
              "    </tr>\n",
              "    <tr>\n",
              "      <th>999998</th>\n",
              "      <td>-32.866636</td>\n",
              "      <td>-68.841144</td>\n",
              "      <td>Argentina</td>\n",
              "      <td>Mendoza</td>\n",
              "      <td>NaN</td>\n",
              "      <td>NaN</td>\n",
              "      <td>NaN</td>\n",
              "      <td>NaN</td>\n",
              "    </tr>\n",
              "    <tr>\n",
              "      <th>999999</th>\n",
              "      <td>-34.447524</td>\n",
              "      <td>-58.631552</td>\n",
              "      <td>Argentina</td>\n",
              "      <td>Bs.As. G.B.A. Zona Norte</td>\n",
              "      <td>Tigre</td>\n",
              "      <td>Santa Barbara Barrio Cerrado</td>\n",
              "      <td>NaN</td>\n",
              "      <td>NaN</td>\n",
              "    </tr>\n",
              "  </tbody>\n",
              "</table>\n",
              "</div>"
            ],
            "text/plain": [
              "              lat        lon         l1                        l2       l3  \\\n",
              "999995 -32.958863 -60.665633  Argentina                  Santa Fe  Rosario   \n",
              "999996 -34.596587 -58.376893  Argentina           Capital Federal   Retiro   \n",
              "999997 -34.576445 -58.432603  Argentina           Capital Federal  Palermo   \n",
              "999998 -32.866636 -68.841144  Argentina                   Mendoza      NaN   \n",
              "999999 -34.447524 -58.631552  Argentina  Bs.As. G.B.A. Zona Norte    Tigre   \n",
              "\n",
              "                                  l4   l5  l6  \n",
              "999995                           NaN  NaN NaN  \n",
              "999996                           NaN  NaN NaN  \n",
              "999997                           NaN  NaN NaN  \n",
              "999998                           NaN  NaN NaN  \n",
              "999999  Santa Barbara Barrio Cerrado  NaN NaN  "
            ]
          },
          "execution_count": 28,
          "metadata": {},
          "output_type": "execute_result"
        }
      ],
      "source": [
        "print(df_entrenamiento_inicial[columnas_ubicacion].head())\n",
        "df_entrenamiento_inicial[columnas_ubicacion].tail()\n"
      ]
    },
    {
      "cell_type": "code",
      "execution_count": 35,
      "metadata": {},
      "outputs": [
        {
          "name": "stdout",
          "output_type": "stream",
          "text": [
            "Colname - % de nulls\n"
          ]
        },
        {
          "data": {
            "text/plain": [
              "lat    0.105767\n",
              "lon    0.105809\n",
              "l1     0.000000\n",
              "l2     0.000000\n",
              "l3     0.034727\n",
              "l4     0.693838\n",
              "l5     0.994470\n",
              "l6     1.000000\n",
              "dtype: float64"
            ]
          },
          "execution_count": 35,
          "metadata": {},
          "output_type": "execute_result"
        }
      ],
      "source": [
        "print(\"Colname - % de nulls\")\n",
        "df_entrenamiento_inicial[columnas_ubicacion].isna(\n",
        ").sum() / len(df_entrenamiento_inicial)\n"
      ]
    },
    {
      "cell_type": "markdown",
      "metadata": {},
      "source": [
        "Al parecer l5 es candidata a desaparecer y l6 será eliminada seguramente.\n",
        "\n",
        "Miraremos a continuación la distribución de las columnas númericas."
      ]
    },
    {
      "cell_type": "code",
      "execution_count": 38,
      "metadata": {},
      "outputs": [
        {
          "data": {
            "text/plain": [
              "<AxesSubplot:>"
            ]
          },
          "execution_count": 38,
          "metadata": {},
          "output_type": "execute_result"
        },
        {
          "data": {
            "image/png": "[encoded data removed]",
            "text/plain": [
              "<Figure size 432x288 with 1 Axes>"
            ]
          },
          "metadata": {
            "needs_background": "light"
          },
          "output_type": "display_data"
        }
      ],
      "source": [
        "df_entrenamiento_inicial[columnas_ubicacion].boxplot()\n"
      ]
    },
    {
      "cell_type": "markdown",
      "metadata": {},
      "source": [
        "## Estudio de columnas de fechas\n",
        "\n",
        "A continuación se estudian los valores relacionados a las columnas de fechas"
      ]
    },
    {
      "cell_type": "code",
      "execution_count": 39,
      "metadata": {},
      "outputs": [
        {
          "name": "stdout",
          "output_type": "stream",
          "text": [
            "<class 'pandas.core.frame.DataFrame'>\n",
            "RangeIndex: 1000000 entries, 0 to 999999\n",
            "Data columns (total 3 columns):\n",
            " #   Column      Non-Null Count    Dtype \n",
            "---  ------      --------------    ----- \n",
            " 0   start_date  1000000 non-null  object\n",
            " 1   end_date    1000000 non-null  object\n",
            " 2   created_on  1000000 non-null  object\n",
            "dtypes: object(3)\n",
            "memory usage: 22.9+ MB\n"
          ]
        }
      ],
      "source": [
        "df_entrenamiento_inicial[columnas_fecha].info()"
      ]
    },
    {
      "cell_type": "markdown",
      "metadata": {},
      "source": [
        "Son columnas strings, no datetime"
      ]
    },
    {
      "cell_type": "code",
      "execution_count": 40,
      "metadata": {},
      "outputs": [
        {
          "data": {
            "text/html": [
              "<div>\n",
              "<style scoped>\n",
              "    .dataframe tbody tr th:only-of-type {\n",
              "        vertical-align: middle;\n",
              "    }\n",
              "\n",
              "    .dataframe tbody tr th {\n",
              "        vertical-align: top;\n",
              "    }\n",
              "\n",
              "    .dataframe thead th {\n",
              "        text-align: right;\n",
              "    }\n",
              "</style>\n",
              "<table border=\"1\" class=\"dataframe\">\n",
              "  <thead>\n",
              "    <tr style=\"text-align: right;\">\n",
              "      <th></th>\n",
              "      <th>start_date</th>\n",
              "      <th>end_date</th>\n",
              "      <th>created_on</th>\n",
              "    </tr>\n",
              "  </thead>\n",
              "  <tbody>\n",
              "    <tr>\n",
              "      <th>0</th>\n",
              "      <td>2020-08-22</td>\n",
              "      <td>2020-09-03</td>\n",
              "      <td>2020-08-22</td>\n",
              "    </tr>\n",
              "    <tr>\n",
              "      <th>1</th>\n",
              "      <td>2020-08-22</td>\n",
              "      <td>2020-09-04</td>\n",
              "      <td>2020-08-22</td>\n",
              "    </tr>\n",
              "    <tr>\n",
              "      <th>2</th>\n",
              "      <td>2020-08-22</td>\n",
              "      <td>2020-08-31</td>\n",
              "      <td>2020-08-22</td>\n",
              "    </tr>\n",
              "    <tr>\n",
              "      <th>3</th>\n",
              "      <td>2020-08-22</td>\n",
              "      <td>2020-09-04</td>\n",
              "      <td>2020-08-22</td>\n",
              "    </tr>\n",
              "    <tr>\n",
              "      <th>4</th>\n",
              "      <td>2020-08-22</td>\n",
              "      <td>2020-09-04</td>\n",
              "      <td>2020-08-22</td>\n",
              "    </tr>\n",
              "  </tbody>\n",
              "</table>\n",
              "</div>"
            ],
            "text/plain": [
              "   start_date    end_date  created_on\n",
              "0  2020-08-22  2020-09-03  2020-08-22\n",
              "1  2020-08-22  2020-09-04  2020-08-22\n",
              "2  2020-08-22  2020-08-31  2020-08-22\n",
              "3  2020-08-22  2020-09-04  2020-08-22\n",
              "4  2020-08-22  2020-09-04  2020-08-22"
            ]
          },
          "execution_count": 40,
          "metadata": {},
          "output_type": "execute_result"
        }
      ],
      "source": [
        "df_entrenamiento_inicial[columnas_fecha].head()\n"
      ]
    },
    {
      "cell_type": "code",
      "execution_count": 41,
      "metadata": {},
      "outputs": [
        {
          "data": {
            "text/html": [
              "<div>\n",
              "<style scoped>\n",
              "    .dataframe tbody tr th:only-of-type {\n",
              "        vertical-align: middle;\n",
              "    }\n",
              "\n",
              "    .dataframe tbody tr th {\n",
              "        vertical-align: top;\n",
              "    }\n",
              "\n",
              "    .dataframe thead th {\n",
              "        text-align: right;\n",
              "    }\n",
              "</style>\n",
              "<table border=\"1\" class=\"dataframe\">\n",
              "  <thead>\n",
              "    <tr style=\"text-align: right;\">\n",
              "      <th></th>\n",
              "      <th>start_date</th>\n",
              "      <th>end_date</th>\n",
              "      <th>created_on</th>\n",
              "    </tr>\n",
              "  </thead>\n",
              "  <tbody>\n",
              "    <tr>\n",
              "      <th>count</th>\n",
              "      <td>1000000</td>\n",
              "      <td>1000000</td>\n",
              "      <td>1000000</td>\n",
              "    </tr>\n",
              "    <tr>\n",
              "      <th>unique</th>\n",
              "      <td>362</td>\n",
              "      <td>450</td>\n",
              "      <td>362</td>\n",
              "    </tr>\n",
              "    <tr>\n",
              "      <th>top</th>\n",
              "      <td>2020-10-02</td>\n",
              "      <td>9999-12-31</td>\n",
              "      <td>2020-10-02</td>\n",
              "    </tr>\n",
              "    <tr>\n",
              "      <th>freq</th>\n",
              "      <td>25159</td>\n",
              "      <td>208960</td>\n",
              "      <td>25159</td>\n",
              "    </tr>\n",
              "  </tbody>\n",
              "</table>\n",
              "</div>"
            ],
            "text/plain": [
              "        start_date    end_date  created_on\n",
              "count      1000000     1000000     1000000\n",
              "unique         362         450         362\n",
              "top     2020-10-02  9999-12-31  2020-10-02\n",
              "freq         25159      208960       25159"
            ]
          },
          "execution_count": 41,
          "metadata": {},
          "output_type": "execute_result"
        }
      ],
      "source": [
        "df_entrenamiento_inicial[columnas_fecha].describe()\n"
      ]
    },
    {
      "cell_type": "code",
      "execution_count": 51,
      "metadata": {},
      "outputs": [
        {
          "data": {
            "text/plain": [
              "<AxesSubplot:xlabel='start_date,end_date,created_on'>"
            ]
          },
          "execution_count": 51,
          "metadata": {},
          "output_type": "execute_result"
        },
        {
          "data": {
            "image/png": "[encoded data removed]",
            "text/plain": [
              "<Figure size 432x288 with 1 Axes>"
            ]
          },
          "metadata": {
            "needs_background": "light"
          },
          "output_type": "display_data"
        }
      ],
      "source": [
        "df_entrenamiento_inicial[columnas_fecha].value_counts().plot()\n",
        "#df_entrenamiento_inicial[columnas_fecha].value_counts()[:5].plot()\n"
      ]
    },
    {
      "cell_type": "markdown",
      "metadata": {},
      "source": [
        "Se puede observar que las combinaciones de fechas siguen un patron de \"Ley de Potencias\".\n",
        "\n",
        "¿Que pasa con cada columna individual?"
      ]
    },
    {
      "cell_type": "code",
      "execution_count": 69,
      "metadata": {},
      "outputs": [
        {
          "data": {
            "image/png": "[encoded data removed]",
            "text/plain": [
              "<Figure size 432x288 with 1 Axes>"
            ]
          },
          "metadata": {
            "needs_background": "light"
          },
          "output_type": "display_data"
        },
        {
          "data": {
            "image/png": "[encoded data removed]",
            "text/plain": [
              "<Figure size 432x288 with 1 Axes>"
            ]
          },
          "metadata": {
            "needs_background": "light"
          },
          "output_type": "display_data"
        },
        {
          "data": {
            "image/png": "[encoded data removed]",
            "text/plain": [
              "<Figure size 432x288 with 1 Axes>"
            ]
          },
          "metadata": {
            "needs_background": "light"
          },
          "output_type": "display_data"
        }
      ],
      "source": [
        "for columna in columnas_fecha:\n",
        "    df_entrenamiento_inicial[columna].value_counts()[:15].plot(kind='bar')\n",
        "    plt.title(columna)\n",
        "    plt.show()\n"
      ]
    },
    {
      "cell_type": "markdown",
      "metadata": {},
      "source": [
        "La columna `end_date` se usa bastante mal. El valor con mayor frecuencia es `9999-12-31`. El mismo aparece mas del 20 % de las veces.\n",
        "\n",
        "Por otro lado, parece que las columnas `start_date` y `created_on` son iguales."
      ]
    },
    {
      "cell_type": "code",
      "execution_count": 73,
      "metadata": {},
      "outputs": [],
      "source": [
        "assert (df_entrenamiento_inicial.start_date ==\n",
        "        df_entrenamiento_inicial.created_on).sum() == len(df_entrenamiento_inicial), \\\n",
        "        \"El ds de entrenamiento tiene diferencias entre columnas start_date y created_on\"\n"
      ]
    },
    {
      "cell_type": "markdown",
      "metadata": {},
      "source": [
        "## Estudio de columnas de publicación\n",
        "\n",
        "Las columnas de publicación son aquellas que refieren a información de la propiedad publicada."
      ]
    },
    {
      "cell_type": "code",
      "execution_count": 75,
      "metadata": {},
      "outputs": [
        {
          "data": {
            "text/html": [
              "<div>\n",
              "<style scoped>\n",
              "    .dataframe tbody tr th:only-of-type {\n",
              "        vertical-align: middle;\n",
              "    }\n",
              "\n",
              "    .dataframe tbody tr th {\n",
              "        vertical-align: top;\n",
              "    }\n",
              "\n",
              "    .dataframe thead th {\n",
              "        text-align: right;\n",
              "    }\n",
              "</style>\n",
              "<table border=\"1\" class=\"dataframe\">\n",
              "  <thead>\n",
              "    <tr style=\"text-align: right;\">\n",
              "      <th></th>\n",
              "      <th>currency</th>\n",
              "      <th>price_period</th>\n",
              "      <th>title</th>\n",
              "      <th>description</th>\n",
              "      <th>property_type</th>\n",
              "      <th>operation_type</th>\n",
              "    </tr>\n",
              "  </thead>\n",
              "  <tbody>\n",
              "    <tr>\n",
              "      <th>count</th>\n",
              "      <td>955491</td>\n",
              "      <td>429870</td>\n",
              "      <td>999999</td>\n",
              "      <td>999958</td>\n",
              "      <td>1000000</td>\n",
              "      <td>1000000</td>\n",
              "    </tr>\n",
              "    <tr>\n",
              "      <th>unique</th>\n",
              "      <td>5</td>\n",
              "      <td>3</td>\n",
              "      <td>548833</td>\n",
              "      <td>817449</td>\n",
              "      <td>10</td>\n",
              "      <td>3</td>\n",
              "    </tr>\n",
              "    <tr>\n",
              "      <th>top</th>\n",
              "      <td>USD</td>\n",
              "      <td>Mensual</td>\n",
              "      <td>casa-venta</td>\n",
              "      <td>Departamento en Alquiler de 1 dorm. en Cordoba</td>\n",
              "      <td>Departamento</td>\n",
              "      <td>Venta</td>\n",
              "    </tr>\n",
              "    <tr>\n",
              "      <th>freq</th>\n",
              "      <td>738157</td>\n",
              "      <td>429842</td>\n",
              "      <td>3338</td>\n",
              "      <td>1980</td>\n",
              "      <td>457907</td>\n",
              "      <td>750831</td>\n",
              "    </tr>\n",
              "  </tbody>\n",
              "</table>\n",
              "</div>"
            ],
            "text/plain": [
              "       currency price_period       title  \\\n",
              "count    955491       429870      999999   \n",
              "unique        5            3      548833   \n",
              "top         USD      Mensual  casa-venta   \n",
              "freq     738157       429842        3338   \n",
              "\n",
              "                                           description property_type  \\\n",
              "count                                           999958       1000000   \n",
              "unique                                          817449            10   \n",
              "top     Departamento en Alquiler de 1 dorm. en Cordoba  Departamento   \n",
              "freq                                              1980        457907   \n",
              "\n",
              "       operation_type  \n",
              "count         1000000  \n",
              "unique              3  \n",
              "top             Venta  \n",
              "freq           750831  "
            ]
          },
          "execution_count": 75,
          "metadata": {},
          "output_type": "execute_result"
        }
      ],
      "source": [
        "df_entrenamiento_inicial[columnas_publicacion].describe(include=object)"
      ]
    },
    {
      "cell_type": "code",
      "execution_count": 76,
      "metadata": {},
      "outputs": [
        {
          "data": {
            "text/html": [
              "<div>\n",
              "<style scoped>\n",
              "    .dataframe tbody tr th:only-of-type {\n",
              "        vertical-align: middle;\n",
              "    }\n",
              "\n",
              "    .dataframe tbody tr th {\n",
              "        vertical-align: top;\n",
              "    }\n",
              "\n",
              "    .dataframe thead th {\n",
              "        text-align: right;\n",
              "    }\n",
              "</style>\n",
              "<table border=\"1\" class=\"dataframe\">\n",
              "  <thead>\n",
              "    <tr style=\"text-align: right;\">\n",
              "      <th></th>\n",
              "      <th>rooms</th>\n",
              "      <th>bedrooms</th>\n",
              "      <th>bathrooms</th>\n",
              "      <th>surface_total</th>\n",
              "      <th>surface_covered</th>\n",
              "      <th>price</th>\n",
              "    </tr>\n",
              "  </thead>\n",
              "  <tbody>\n",
              "    <tr>\n",
              "      <th>count</th>\n",
              "      <td>714179.000000</td>\n",
              "      <td>649933.000000</td>\n",
              "      <td>765122.000000</td>\n",
              "      <td>477831.000000</td>\n",
              "      <td>4.877560e+05</td>\n",
              "      <td>9.582430e+05</td>\n",
              "    </tr>\n",
              "    <tr>\n",
              "      <th>mean</th>\n",
              "      <td>2.916567</td>\n",
              "      <td>2.097815</td>\n",
              "      <td>1.708581</td>\n",
              "      <td>513.760752</td>\n",
              "      <td>1.165622e+04</td>\n",
              "      <td>3.460940e+05</td>\n",
              "    </tr>\n",
              "    <tr>\n",
              "      <th>std</th>\n",
              "      <td>1.739685</td>\n",
              "      <td>2.079008</td>\n",
              "      <td>1.092221</td>\n",
              "      <td>4297.241604</td>\n",
              "      <td>4.443191e+06</td>\n",
              "      <td>5.713690e+06</td>\n",
              "    </tr>\n",
              "    <tr>\n",
              "      <th>min</th>\n",
              "      <td>1.000000</td>\n",
              "      <td>-16.000000</td>\n",
              "      <td>1.000000</td>\n",
              "      <td>-136.000000</td>\n",
              "      <td>-1.300000e+02</td>\n",
              "      <td>0.000000e+00</td>\n",
              "    </tr>\n",
              "    <tr>\n",
              "      <th>25%</th>\n",
              "      <td>2.000000</td>\n",
              "      <td>1.000000</td>\n",
              "      <td>1.000000</td>\n",
              "      <td>50.000000</td>\n",
              "      <td>4.500000e+01</td>\n",
              "      <td>3.800000e+04</td>\n",
              "    </tr>\n",
              "    <tr>\n",
              "      <th>50%</th>\n",
              "      <td>3.000000</td>\n",
              "      <td>2.000000</td>\n",
              "      <td>1.000000</td>\n",
              "      <td>95.000000</td>\n",
              "      <td>7.800000e+01</td>\n",
              "      <td>9.700000e+04</td>\n",
              "    </tr>\n",
              "    <tr>\n",
              "      <th>75%</th>\n",
              "      <td>4.000000</td>\n",
              "      <td>3.000000</td>\n",
              "      <td>2.000000</td>\n",
              "      <td>250.000000</td>\n",
              "      <td>1.680000e+02</td>\n",
              "      <td>2.100000e+05</td>\n",
              "    </tr>\n",
              "    <tr>\n",
              "      <th>max</th>\n",
              "      <td>40.000000</td>\n",
              "      <td>900.000000</td>\n",
              "      <td>20.000000</td>\n",
              "      <td>200000.000000</td>\n",
              "      <td>2.147484e+09</td>\n",
              "      <td>3.100000e+09</td>\n",
              "    </tr>\n",
              "  </tbody>\n",
              "</table>\n",
              "</div>"
            ],
            "text/plain": [
              "               rooms       bedrooms      bathrooms  surface_total  \\\n",
              "count  714179.000000  649933.000000  765122.000000  477831.000000   \n",
              "mean        2.916567       2.097815       1.708581     513.760752   \n",
              "std         1.739685       2.079008       1.092221    4297.241604   \n",
              "min         1.000000     -16.000000       1.000000    -136.000000   \n",
              "25%         2.000000       1.000000       1.000000      50.000000   \n",
              "50%         3.000000       2.000000       1.000000      95.000000   \n",
              "75%         4.000000       3.000000       2.000000     250.000000   \n",
              "max        40.000000     900.000000      20.000000  200000.000000   \n",
              "\n",
              "       surface_covered         price  \n",
              "count     4.877560e+05  9.582430e+05  \n",
              "mean      1.165622e+04  3.460940e+05  \n",
              "std       4.443191e+06  5.713690e+06  \n",
              "min      -1.300000e+02  0.000000e+00  \n",
              "25%       4.500000e+01  3.800000e+04  \n",
              "50%       7.800000e+01  9.700000e+04  \n",
              "75%       1.680000e+02  2.100000e+05  \n",
              "max       2.147484e+09  3.100000e+09  "
            ]
          },
          "execution_count": 76,
          "metadata": {},
          "output_type": "execute_result"
        }
      ],
      "source": [
        "df_entrenamiento_inicial[columnas_publicacion].describe()\n"
      ]
    },
    {
      "cell_type": "code",
      "execution_count": 102,
      "metadata": {},
      "outputs": [],
      "source": [
        "columnas_publicacion_sin_precio = list(columnas_publicacion)\n",
        "columnas_publicacion_sin_precio.remove('price')\n"
      ]
    },
    {
      "cell_type": "code",
      "execution_count": 117,
      "metadata": {},
      "outputs": [
        {
          "data": {
            "text/plain": [
              "<AxesSubplot:>"
            ]
          },
          "execution_count": 117,
          "metadata": {},
          "output_type": "execute_result"
        },
        {
          "data": {
            "image/png": "[encoded data removed]",
            "text/plain": [
              "<Figure size 432x288 with 1 Axes>"
            ]
          },
          "metadata": {
            "needs_background": "light"
          },
          "output_type": "display_data"
        }
      ],
      "source": [
        "df_entrenamiento_inicial[['surface_total', 'surface_covered']].boxplot(\n",
        "    showfliers=False)\n"
      ]
    },
    {
      "cell_type": "code",
      "execution_count": 112,
      "metadata": {},
      "outputs": [
        {
          "data": {
            "text/plain": [
              "<AxesSubplot:>"
            ]
          },
          "execution_count": 112,
          "metadata": {},
          "output_type": "execute_result"
        },
        {
          "data": {
            "image/png": "[encoded data removed]",
            "text/plain": [
              "<Figure size 432x288 with 1 Axes>"
            ]
          },
          "metadata": {
            "needs_background": "light"
          },
          "output_type": "display_data"
        }
      ],
      "source": [
        "df_entrenamiento_inicial[['price']].boxplot(\n",
        "    showfliers=False)\n"
      ]
    },
    {
      "cell_type": "markdown",
      "metadata": {},
      "source": [
        "En cuanto a los NaNs presentes en estas columnas, se puede observar lo siguiente:"
      ]
    },
    {
      "cell_type": "code",
      "execution_count": 118,
      "metadata": {},
      "outputs": [
        {
          "name": "stdout",
          "output_type": "stream",
          "text": [
            "Colname - % de nulls\n"
          ]
        },
        {
          "data": {
            "text/plain": [
              "rooms              0.285821\n",
              "bedrooms           0.350067\n",
              "bathrooms          0.234878\n",
              "surface_total      0.522169\n",
              "surface_covered    0.512244\n",
              "price              0.041757\n",
              "currency           0.044509\n",
              "price_period       0.570130\n",
              "title              0.000001\n",
              "description        0.000042\n",
              "property_type      0.000000\n",
              "operation_type     0.000000\n",
              "dtype: float64"
            ]
          },
          "execution_count": 118,
          "metadata": {},
          "output_type": "execute_result"
        }
      ],
      "source": [
        "print(\"Colname - % de nulls\")\n",
        "df_entrenamiento_inicial[columnas_publicacion].isna(\n",
        ").sum() / len(df_entrenamiento_inicial)\n"
      ]
    },
    {
      "cell_type": "markdown",
      "metadata": {},
      "source": [
        "Se observan varios casos donde la cantidad de NaNs es mas de la mitad de las columnas"
      ]
    },
    {
      "cell_type": "markdown",
      "metadata": {
        "id": "zjaTnfxkyvo8"
      },
      "source": [
        "# Tratamiento de los datos\n",
        "\n",
        "**TODO**\n",
        "* Determinar método para eliminar columnas con mas de un X % de NaNs.\n",
        "* Pasar cols de fechas a datetimes\n",
        "* Eliminar col created_on pues es igual a start_date"
      ]
    },
    {
      "cell_type": "code",
      "execution_count": 24,
      "metadata": {},
      "outputs": [],
      "source": []
    },
    {
      "cell_type": "code",
      "execution_count": 25,
      "metadata": {},
      "outputs": [
        {
          "data": {
            "text/plain": [
              "Index(['id', 'ad_type', 'start_date', 'end_date', 'created_on', 'lat', 'lon',\n",
              "       'l1', 'l2', 'l3', 'l4', 'l5', 'l6', 'rooms', 'bedrooms', 'bathrooms',\n",
              "       'surface_total', 'surface_covered', 'price', 'currency', 'price_period',\n",
              "       'title', 'description', 'property_type', 'operation_type'],\n",
              "      dtype='object')"
            ]
          },
          "execution_count": 25,
          "metadata": {},
          "output_type": "execute_result"
        }
      ],
      "source": [
        "df_entrenamiento_inicial.columns\n"
      ]
    },
    {
      "cell_type": "code",
      "execution_count": 26,
      "metadata": {},
      "outputs": [
        {
          "data": {
            "text/plain": [
              "(1087, 25)"
            ]
          },
          "execution_count": 26,
          "metadata": {},
          "output_type": "execute_result"
        }
      ],
      "source": [
        "df_prueba.shape"
      ]
    },
    {
      "cell_type": "markdown",
      "metadata": {
        "id": "i2jRJmQ-tD4Z"
      },
      "source": [
        "# Modelización"
      ]
    },
    {
      "cell_type": "code",
      "execution_count": 30,
      "metadata": {
        "id": "yg8qNxuNrzQp"
      },
      "outputs": [],
      "source": [
        "df_entrenamiento_inicial = df_entrenamiento_inicial.select_dtypes(include=['float64', 'int64'])\n",
        "df_entrenamiento_inicial.fillna(0, inplace=True, downcast= \"infer\")\n",
        "\n",
        "df_prueba = df_prueba_inicial[df_entrenamiento_inicial.columns].copy()\n"
      ]
    },
    {
      "cell_type": "code",
      "execution_count": null,
      "metadata": {
        "id": "PoAhfAjlr-rp"
      },
      "outputs": [],
      "source": [
        "X = df_entrenamiento_inicial[df_entrenamiento_inicial.columns.drop('price')]\n",
        "y = df_entrenamiento_inicial['price']\n",
        "\n",
        "for n_estimators in [100, 500, 1000]:\n",
        "    for max_depth in [3, 7, 11]:\n",
        "\n",
        "        ## Tienen que usar RandomForestRegressor si o si o si. Pueden cambiar los parámetros\n",
        "        reg = sk.ensemble.RandomForestRegressor(n_estimators=n_estimators, max_depth=max_depth, random_state=42, n_jobs=-1)\n",
        "\n",
        "        ## Validación cruzada en 5 partes (lo van a ver en AA), -RMSE. No tocar\n",
        "        scores = sk.model_selection.cross_val_score(reg, X, y, cv=10, scoring='neg_root_mean_squared_error')\n",
        "\n",
        "        ## Imprimimos scores. Cuando más bajo mejor\n",
        "        print(f\"n_estimators={n_estimators}, max_depth={max_depth} --> {-scores.mean():.3f} +/- {scores.std():.3f}\")\n"
      ]
    },
    {
      "cell_type": "code",
      "execution_count": 31,
      "metadata": {},
      "outputs": [],
      "source": [
        "X = df_entrenamiento_inicial[df_entrenamiento_inicial.columns.drop('price')]\n",
        "y = df_entrenamiento_inicial['price']\n"
      ]
    },
    {
      "cell_type": "code",
      "execution_count": null,
      "metadata": {},
      "outputs": [],
      "source": [
        "# version todo por 2 pesos\n",
        "## Tienen que usar RandomForestRegressor si o si o si. Pueden cambiar los parámetros\n",
        "reg = sk.ensemble.RandomForestRegressor(\n",
        "    n_estimators=100, max_depth=7, random_state=42, n_jobs=-1)\n",
        "\n",
        "## Validación cruzada en 5 partes (lo van a ver en AA), -RMSE. No tocar\n",
        "scores = sk.model_selection.cross_val_score(\n",
        "    reg, X, y, cv=10, scoring='neg_root_mean_squared_error')\n",
        "\n",
        "## Imprimimos scores. Cuando más bajo mejor\n",
        "print(f\"{-scores.mean():.3f} +/- {scores.std():.3f}\")\n"
      ]
    },
    {
      "cell_type": "code",
      "execution_count": 32,
      "metadata": {
        "id": "01697gx81F5Z"
      },
      "outputs": [],
      "source": [
        "#df_pred = pd.read_csv(archivo_prueba, index_col=\"id\")\n",
        "df_prueba.fillna(0, inplace=True)"
      ]
    },
    {
      "cell_type": "code",
      "execution_count": 33,
      "metadata": {
        "id": "xzAwUNRA1Fzb"
      },
      "outputs": [],
      "source": [
        "X_pred = df_prueba[X.columns]\n"
      ]
    },
    {
      "cell_type": "code",
      "execution_count": 34,
      "metadata": {
        "id": "81dOh5WvAPMa"
      },
      "outputs": [],
      "source": [
        "# los mejores hiperparámetros encontrados antes\n",
        "n_estimators = 100\n",
        "max_depth = 7\n",
        "\n",
        "# entrenamiento\n",
        "reg = sk.ensemble.RandomForestRegressor(n_estimators=n_estimators, max_depth=max_depth, random_state=42, n_jobs=-1)\n",
        "reg.fit(X, y)\n",
        "\n",
        "# predicción\n",
        "df_prueba[\"price\"] = reg.predict(X_pred)\n"
      ]
    },
    {
      "cell_type": "code",
      "execution_count": 65,
      "metadata": {
        "id": "mU9iV6cuBwKB"
      },
      "outputs": [],
      "source": [
        "# grabo la solución\n",
        "df_prueba.index.name = 'id'\n",
        "df_prueba[\"id\"] = df_prueba_inicial.id\n",
        "df_prueba[[\"id\", \"price\"]].to_csv(archivo_salida, index=False)\n"
      ]
    },
    {
      "cell_type": "code",
      "execution_count": 66,
      "metadata": {},
      "outputs": [
        {
          "name": "stdout",
          "output_type": "stream",
          "text": [
            "100%|██████████████████████████████████████| 23.1k/23.1k [00:02<00:00, 11.1kB/s]\n",
            "Successfully submitted to FCEN MD 2022 - Predicción precio de propiedades"
          ]
        }
      ],
      "source": [
        "if ESTA_KAGGLE:\n",
        "    ! kaggle competitions submit -c fcen-md-2022-prediccion-precio-de-propiedades -f $archivo_salida -m \"Prueba enviar predicción desde Notebook\"\n"
      ]
    }
  ],
  "metadata": {
    "colab": {
      "collapsed_sections": [],
      "name": "Copia de TP individual.ipynb",
      "provenance": []
    },
    "kernelspec": {
      "display_name": "Python 3",
      "name": "python3"
    },
    "language_info": {
      "codemirror_mode": {
        "name": "ipython",
        "version": 3
      },
      "file_extension": ".py",
      "mimetype": "text/x-python",
      "name": "python",
      "nbconvert_exporter": "python",
      "pygments_lexer": "ipython3",
      "version": "3.8.10"
    }
  },
  "nbformat": 4,
  "nbformat_minor": 0
}
