{
  "cells": [
    {
      "cell_type": "markdown",
      "metadata": {},
      "source": [
        "# Predicción Precios Argentina - MD 2022\n",
        "\n",
        "Notebook para la competencias de [Kaggle](https://www.kaggle.com/competitions/fcen-md-2022-prediccion-precio-de-propiedades/leaderboard) de la materia MD de la maestria de DM de la UBA.\n",
        "\n",
        "Autor: Tomás Delvechio"
      ]
    },
    {
      "cell_type": "markdown",
      "metadata": {},
      "source": [
        "# Configuración de la notebook\n",
        "\n",
        "A continuación se definen configuraciones que afectaran el resto del notebook."
      ]
    },
    {
      "cell_type": "code",
      "execution_count": 8,
      "metadata": {},
      "outputs": [],
      "source": [
        "import sys\n",
        "import os.path"
      ]
    },
    {
      "cell_type": "code",
      "execution_count": 10,
      "metadata": {},
      "outputs": [],
      "source": [
        "EJECUTA_COLAB = 'google.colab' in sys.modules\n",
        "DATASET_COMPRESSED_LOCAL_NAME = 'ar_properties.csv.gz'\n",
        "DATASET_RAW_LOCAL_NAME = 'ar_properties.csv'\n"
      ]
    },
    {
      "cell_type": "markdown",
      "metadata": {},
      "source": [
        "# Descarga del dataset\n",
        "\n",
        "Controla si el dataset esta o no descargado, en caso de no estarlo, lo descarga y descomprime"
      ]
    },
    {
      "cell_type": "code",
      "execution_count": 12,
      "metadata": {
        "id": "A7BBykw5oQNl"
      },
      "outputs": [],
      "source": [
        "if EJECUTA_COLAB:\n",
        "    BASE_PATH = '/content'\n",
        "else:\n",
        "    BASE_PATH = '.data/'\n",
        "    ! mkdir -p $BASE_PATH\n",
        "\n",
        "fulllpath_dataset_properati = os.path.join(\n",
        "    BASE_PATH, DATASET_COMPRESSED_LOCAL_NAME)\n",
        "fulllpath_raw_dataset_properati = os.path.join(\n",
        "    BASE_PATH, DATASET_RAW_LOCAL_NAME)\n",
        "\n",
        "if os.path.exists(fulllpath_raw_dataset_properati) or os.path.exists(fulllpath_dataset_properati):\n",
        "    # skip download\n",
        "    print(\"Dataset de properati descargado... No se descarga...\")\n",
        "else:\n",
        "    # https://www.properati.com.ar/data\n",
        "    ! wget -N -O $fulllpath_dataset_properati -q https://storage.googleapis.com/properati-data-public/ar_properties.csv.gz\n",
        "    ! gzip -d -f $fulllpath_dataset_properati"
      ]
    },
    {
      "cell_type": "markdown",
      "metadata": {},
      "source": [
        "# Importación de librerias"
      ]
    },
    {
      "cell_type": "code",
      "execution_count": 13,
      "metadata": {
        "id": "jw8ogMDOpvKP"
      },
      "outputs": [],
      "source": [
        "import pandas as pd\n",
        "\n",
        "import sklearn as sk\n",
        "from sklearn import model_selection\n",
        "from sklearn import ensemble\n",
        "from sklearn import metrics"
      ]
    },
    {
      "cell_type": "markdown",
      "metadata": {
        "id": "20D-m6GPyefp"
      },
      "source": [
        "# Lectura de datos"
      ]
    },
    {
      "cell_type": "code",
      "execution_count": 15,
      "metadata": {
        "id": "CtV0wOGsqJLC"
      },
      "outputs": [],
      "source": [
        "df = pd.read_csv(fulllpath_raw_dataset_properati, index_col=\"id\")\n"
      ]
    },
    {
      "cell_type": "code",
      "execution_count": 18,
      "metadata": {
        "id": "ckXCv9f-uia0"
      },
      "outputs": [
        {
          "data": {
            "text/plain": [
              "(17972, 24)"
            ]
          },
          "execution_count": 18,
          "metadata": {},
          "output_type": "execute_result"
        }
      ],
      "source": [
        "# filtro para pruebas rápidas\n",
        "df = df.loc[(df.l2 == \"Córdoba\") & (df.operation_type == 'Venta') & (df.property_type == 'Casa')]\n",
        "df.shape"
      ]
    },
    {
      "cell_type": "markdown",
      "metadata": {
        "id": "byV0dQi-yiEd"
      },
      "source": [
        "# Análisis del conjunto de datos"
      ]
    },
    {
      "cell_type": "markdown",
      "metadata": {
        "id": "zjaTnfxkyvo8"
      },
      "source": [
        "# Tratamiento de los datos"
      ]
    },
    {
      "cell_type": "markdown",
      "metadata": {
        "id": "i2jRJmQ-tD4Z"
      },
      "source": [
        "# Modelización"
      ]
    },
    {
      "cell_type": "code",
      "execution_count": 19,
      "metadata": {
        "id": "yg8qNxuNrzQp"
      },
      "outputs": [],
      "source": [
        "df = df.select_dtypes(include=['float64', 'int64'])\n",
        "df.fillna(0, inplace=True, downcast= \"infer\")"
      ]
    },
    {
      "cell_type": "code",
      "execution_count": 20,
      "metadata": {
        "id": "PoAhfAjlr-rp"
      },
      "outputs": [
        {
          "name": "stdout",
          "output_type": "stream",
          "text": [
            "n_estimators=100, max_depth=3 --> 1092877.244 +/- 326348.764\n",
            "n_estimators=100, max_depth=7 --> 1091396.303 +/- 303108.089\n",
            "n_estimators=100, max_depth=11 --> 1057311.935 +/- 261268.926\n",
            "n_estimators=500, max_depth=3 --> 1093316.561 +/- 326591.421\n",
            "n_estimators=500, max_depth=7 --> 1090799.671 +/- 303480.374\n",
            "n_estimators=500, max_depth=11 --> 1054131.309 +/- 261351.210\n",
            "n_estimators=1000, max_depth=3 --> 1093700.609 +/- 326763.124\n",
            "n_estimators=1000, max_depth=7 --> 1089087.818 +/- 300652.070\n",
            "n_estimators=1000, max_depth=11 --> 1053844.945 +/- 261281.861\n"
          ]
        }
      ],
      "source": [
        "X = df[df.columns.drop('price')]\n",
        "y = df['price']\n",
        "\n",
        "for n_estimators in [100, 500, 1000]:     \n",
        "    for max_depth in [3, 7, 11]:\n",
        "\n",
        "        ## Tienen que usar RandomForestRegressor si o si o si. Pueden cambiar los parámetros\n",
        "        reg = sk.ensemble.RandomForestRegressor(n_estimators=n_estimators, max_depth=max_depth, random_state=42, n_jobs=-1)\n",
        "\n",
        "        ## Validación cruzada en 5 partes (lo van a ver en AA), -RMSE. No tocar\n",
        "        scores = sk.model_selection.cross_val_score(reg, X, y, cv=10, scoring='neg_root_mean_squared_error')\n",
        "\n",
        "        ## Imprimimos scores. Cuando más bajo mejor\n",
        "        print(f\"n_estimators={n_estimators}, max_depth={max_depth} --> {-scores.mean():.3f} +/- {scores.std():.3f}\")\n"
      ]
    },
    {
      "cell_type": "code",
      "execution_count": null,
      "metadata": {
        "id": "01697gx81F5Z"
      },
      "outputs": [],
      "source": [
        "df_pred = pd.read_csv('/content/a_predecir.csv', index_col=\"id\")\n",
        "df_pred.fillna(0, inplace=True)"
      ]
    },
    {
      "cell_type": "code",
      "execution_count": null,
      "metadata": {
        "id": "xzAwUNRA1Fzb"
      },
      "outputs": [],
      "source": [
        "X_pred = df_pred[X.columns]"
      ]
    },
    {
      "cell_type": "code",
      "execution_count": null,
      "metadata": {
        "id": "81dOh5WvAPMa"
      },
      "outputs": [],
      "source": [
        "# los mejores hiperparámetros encontrados antes\n",
        "n_estimators = 100\n",
        "max_depth = 3\n",
        "\n",
        "# entrenamiento\n",
        "reg = sk.ensemble.RandomForestRegressor(n_estimators=n_estimators, max_depth=max_depth, random_state=42, n_jobs=-1)\n",
        "reg.fit(X, y)\n",
        "\n",
        "# predicción\n",
        "df_pred[\"price\"] = reg.predict(X_pred)"
      ]
    },
    {
      "cell_type": "code",
      "execution_count": null,
      "metadata": {
        "id": "mU9iV6cuBwKB"
      },
      "outputs": [],
      "source": [
        "# grabo la solución\n",
        "df_pred[[\"price\"]].to_csv(\"solucion.csv\")"
      ]
    }
  ],
  "metadata": {
    "colab": {
      "collapsed_sections": [],
      "name": "Copia de TP individual.ipynb",
      "provenance": []
    },
    "kernelspec": {
      "display_name": "Python 3",
      "name": "python3"
    },
    "language_info": {
      "codemirror_mode": {
        "name": "ipython",
        "version": 3
      },
      "file_extension": ".py",
      "mimetype": "text/x-python",
      "name": "python",
      "nbconvert_exporter": "python",
      "pygments_lexer": "ipython3",
      "version": "3.8.10"
    }
  },
  "nbformat": 4,
  "nbformat_minor": 0
}
